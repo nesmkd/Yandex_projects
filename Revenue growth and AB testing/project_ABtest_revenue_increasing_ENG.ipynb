{
 "cells": [
  {
   "cell_type": "markdown",
   "metadata": {},
   "source": [
    "# Project\n",
    "# Revenue growth and AB testing"
   ]
  },
  {
   "cell_type": "markdown",
   "metadata": {},
   "source": [
    "## Prioritization of hypotheses"
   ]
  },
  {
   "cell_type": "code",
   "execution_count": 1,
   "metadata": {},
   "outputs": [],
   "source": [
    "# import libraries\n",
    "import pandas as pd\n",
    "from scipy import stats as st\n",
    "import numpy as np\n",
    "import math as mth\n",
    "import matplotlib.pyplot as plt"
   ]
  },
  {
   "cell_type": "code",
   "execution_count": 2,
   "metadata": {
    "scrolled": true
   },
   "outputs": [
    {
     "data": {
      "text/html": [
       "<div>\n",
       "<style scoped>\n",
       "    .dataframe tbody tr th:only-of-type {\n",
       "        vertical-align: middle;\n",
       "    }\n",
       "\n",
       "    .dataframe tbody tr th {\n",
       "        vertical-align: top;\n",
       "    }\n",
       "\n",
       "    .dataframe thead th {\n",
       "        text-align: right;\n",
       "    }\n",
       "</style>\n",
       "<table border=\"1\" class=\"dataframe\">\n",
       "  <thead>\n",
       "    <tr style=\"text-align: right;\">\n",
       "      <th></th>\n",
       "      <th>Hypothesis</th>\n",
       "      <th>Reach</th>\n",
       "      <th>Impact</th>\n",
       "      <th>Confidence</th>\n",
       "      <th>Efforts</th>\n",
       "    </tr>\n",
       "  </thead>\n",
       "  <tbody>\n",
       "    <tr>\n",
       "      <th>0</th>\n",
       "      <td>Добавить два новых канала привлечения трафика, что позволит привлекать на 30% больше пользователей</td>\n",
       "      <td>3</td>\n",
       "      <td>10</td>\n",
       "      <td>8</td>\n",
       "      <td>6</td>\n",
       "    </tr>\n",
       "    <tr>\n",
       "      <th>1</th>\n",
       "      <td>Запустить собственную службу доставки, что сократит срок доставки заказов</td>\n",
       "      <td>2</td>\n",
       "      <td>5</td>\n",
       "      <td>4</td>\n",
       "      <td>10</td>\n",
       "    </tr>\n",
       "    <tr>\n",
       "      <th>2</th>\n",
       "      <td>Добавить блоки рекомендаций товаров на сайт интернет магазина, чтобы повысить конверсию и средний чек заказа</td>\n",
       "      <td>8</td>\n",
       "      <td>3</td>\n",
       "      <td>7</td>\n",
       "      <td>3</td>\n",
       "    </tr>\n",
       "    <tr>\n",
       "      <th>3</th>\n",
       "      <td>Изменить структура категорий, что увеличит конверсию, т.к. пользователи быстрее найдут нужный товар</td>\n",
       "      <td>8</td>\n",
       "      <td>3</td>\n",
       "      <td>3</td>\n",
       "      <td>8</td>\n",
       "    </tr>\n",
       "    <tr>\n",
       "      <th>4</th>\n",
       "      <td>Изменить цвет фона главной страницы, чтобы увеличить вовлеченность пользователей</td>\n",
       "      <td>3</td>\n",
       "      <td>1</td>\n",
       "      <td>1</td>\n",
       "      <td>1</td>\n",
       "    </tr>\n",
       "    <tr>\n",
       "      <th>5</th>\n",
       "      <td>Добавить страницу отзывов клиентов о магазине, что позволит увеличить количество заказов</td>\n",
       "      <td>3</td>\n",
       "      <td>2</td>\n",
       "      <td>2</td>\n",
       "      <td>3</td>\n",
       "    </tr>\n",
       "    <tr>\n",
       "      <th>6</th>\n",
       "      <td>Показать на главной странице баннеры с актуальными акциями и распродажами, чтобы увеличить конверсию</td>\n",
       "      <td>5</td>\n",
       "      <td>3</td>\n",
       "      <td>8</td>\n",
       "      <td>3</td>\n",
       "    </tr>\n",
       "    <tr>\n",
       "      <th>7</th>\n",
       "      <td>Добавить форму подписки на все основные страницы, чтобы собрать базу клиентов для email-рассылок</td>\n",
       "      <td>10</td>\n",
       "      <td>7</td>\n",
       "      <td>8</td>\n",
       "      <td>5</td>\n",
       "    </tr>\n",
       "    <tr>\n",
       "      <th>8</th>\n",
       "      <td>Запустить акцию, дающую скидку на товар в день рождения</td>\n",
       "      <td>1</td>\n",
       "      <td>9</td>\n",
       "      <td>9</td>\n",
       "      <td>5</td>\n",
       "    </tr>\n",
       "  </tbody>\n",
       "</table>\n",
       "</div>"
      ],
      "text/plain": [
       "                                                                                                     Hypothesis  \\\n",
       "0  Добавить два новых канала привлечения трафика, что позволит привлекать на 30% больше пользователей             \n",
       "1  Запустить собственную службу доставки, что сократит срок доставки заказов                                      \n",
       "2  Добавить блоки рекомендаций товаров на сайт интернет магазина, чтобы повысить конверсию и средний чек заказа   \n",
       "3  Изменить структура категорий, что увеличит конверсию, т.к. пользователи быстрее найдут нужный товар            \n",
       "4  Изменить цвет фона главной страницы, чтобы увеличить вовлеченность пользователей                               \n",
       "5  Добавить страницу отзывов клиентов о магазине, что позволит увеличить количество заказов                       \n",
       "6  Показать на главной странице баннеры с актуальными акциями и распродажами, чтобы увеличить конверсию           \n",
       "7  Добавить форму подписки на все основные страницы, чтобы собрать базу клиентов для email-рассылок               \n",
       "8  Запустить акцию, дающую скидку на товар в день рождения                                                        \n",
       "\n",
       "   Reach  Impact  Confidence  Efforts  \n",
       "0  3      10      8           6        \n",
       "1  2      5       4           10       \n",
       "2  8      3       7           3        \n",
       "3  8      3       3           8        \n",
       "4  3      1       1           1        \n",
       "5  3      2       2           3        \n",
       "6  5      3       8           3        \n",
       "7  10     7       8           5        \n",
       "8  1      9       9           5        "
      ]
     },
     "execution_count": 2,
     "metadata": {},
     "output_type": "execute_result"
    }
   ],
   "source": [
    "try:\n",
    "    hypot = pd.read_csv('/datasets/hypothesis.csv')\n",
    "\n",
    "except Exception as e:\n",
    "    hypot = pd.read_csv('/home/nesmakate/Downloads/Yandex Practicim/Projects/Project_Принятие решений в бизнесе/hypothesis.csv')\n",
    "\n",
    "pd.set_option('display.max_colwidth', False)    \n",
    "hypot"
   ]
  },
  {
   "cell_type": "code",
   "execution_count": 3,
   "metadata": {},
   "outputs": [
    {
     "name": "stdout",
     "output_type": "stream",
     "text": [
      "<class 'pandas.core.frame.DataFrame'>\n",
      "RangeIndex: 9 entries, 0 to 8\n",
      "Data columns (total 5 columns):\n",
      " #   Column      Non-Null Count  Dtype \n",
      "---  ------      --------------  ----- \n",
      " 0   Hypothesis  9 non-null      object\n",
      " 1   Reach       9 non-null      int64 \n",
      " 2   Impact      9 non-null      int64 \n",
      " 3   Confidence  9 non-null      int64 \n",
      " 4   Efforts     9 non-null      int64 \n",
      "dtypes: int64(4), object(1)\n",
      "memory usage: 488.0+ bytes\n"
     ]
    }
   ],
   "source": [
    "# check the basic information about the data\n",
    "hypot.info()"
   ]
  },
  {
   "cell_type": "markdown",
   "metadata": {},
   "source": [
    "Upon initial inspection, no issues were found - all data is recorded correctly, the formats are suitable, and there are indeed 9 hypotheses in the table, as stated in the data description."
   ]
  },
  {
   "cell_type": "markdown",
   "metadata": {},
   "source": [
    "### Prioritization based on the ICE system"
   ]
  },
  {
   "cell_type": "code",
   "execution_count": 4,
   "metadata": {},
   "outputs": [
    {
     "data": {
      "text/html": [
       "<div>\n",
       "<style scoped>\n",
       "    .dataframe tbody tr th:only-of-type {\n",
       "        vertical-align: middle;\n",
       "    }\n",
       "\n",
       "    .dataframe tbody tr th {\n",
       "        vertical-align: top;\n",
       "    }\n",
       "\n",
       "    .dataframe thead th {\n",
       "        text-align: right;\n",
       "    }\n",
       "</style>\n",
       "<table border=\"1\" class=\"dataframe\">\n",
       "  <thead>\n",
       "    <tr style=\"text-align: right;\">\n",
       "      <th></th>\n",
       "      <th>Hypothesis</th>\n",
       "      <th>Reach</th>\n",
       "      <th>Impact</th>\n",
       "      <th>Confidence</th>\n",
       "      <th>Efforts</th>\n",
       "      <th>ICE_score</th>\n",
       "    </tr>\n",
       "  </thead>\n",
       "  <tbody>\n",
       "    <tr>\n",
       "      <th>8</th>\n",
       "      <td>Запустить акцию, дающую скидку на товар в день рождения</td>\n",
       "      <td>1</td>\n",
       "      <td>9</td>\n",
       "      <td>9</td>\n",
       "      <td>5</td>\n",
       "      <td>16.2</td>\n",
       "    </tr>\n",
       "    <tr>\n",
       "      <th>0</th>\n",
       "      <td>Добавить два новых канала привлечения трафика, что позволит привлекать на 30% больше пользователей</td>\n",
       "      <td>3</td>\n",
       "      <td>10</td>\n",
       "      <td>8</td>\n",
       "      <td>6</td>\n",
       "      <td>13.3</td>\n",
       "    </tr>\n",
       "    <tr>\n",
       "      <th>7</th>\n",
       "      <td>Добавить форму подписки на все основные страницы, чтобы собрать базу клиентов для email-рассылок</td>\n",
       "      <td>10</td>\n",
       "      <td>7</td>\n",
       "      <td>8</td>\n",
       "      <td>5</td>\n",
       "      <td>11.2</td>\n",
       "    </tr>\n",
       "    <tr>\n",
       "      <th>6</th>\n",
       "      <td>Показать на главной странице баннеры с актуальными акциями и распродажами, чтобы увеличить конверсию</td>\n",
       "      <td>5</td>\n",
       "      <td>3</td>\n",
       "      <td>8</td>\n",
       "      <td>3</td>\n",
       "      <td>8.0</td>\n",
       "    </tr>\n",
       "    <tr>\n",
       "      <th>2</th>\n",
       "      <td>Добавить блоки рекомендаций товаров на сайт интернет магазина, чтобы повысить конверсию и средний чек заказа</td>\n",
       "      <td>8</td>\n",
       "      <td>3</td>\n",
       "      <td>7</td>\n",
       "      <td>3</td>\n",
       "      <td>7.0</td>\n",
       "    </tr>\n",
       "    <tr>\n",
       "      <th>1</th>\n",
       "      <td>Запустить собственную службу доставки, что сократит срок доставки заказов</td>\n",
       "      <td>2</td>\n",
       "      <td>5</td>\n",
       "      <td>4</td>\n",
       "      <td>10</td>\n",
       "      <td>2.0</td>\n",
       "    </tr>\n",
       "    <tr>\n",
       "      <th>5</th>\n",
       "      <td>Добавить страницу отзывов клиентов о магазине, что позволит увеличить количество заказов</td>\n",
       "      <td>3</td>\n",
       "      <td>2</td>\n",
       "      <td>2</td>\n",
       "      <td>3</td>\n",
       "      <td>1.3</td>\n",
       "    </tr>\n",
       "    <tr>\n",
       "      <th>3</th>\n",
       "      <td>Изменить структура категорий, что увеличит конверсию, т.к. пользователи быстрее найдут нужный товар</td>\n",
       "      <td>8</td>\n",
       "      <td>3</td>\n",
       "      <td>3</td>\n",
       "      <td>8</td>\n",
       "      <td>1.1</td>\n",
       "    </tr>\n",
       "    <tr>\n",
       "      <th>4</th>\n",
       "      <td>Изменить цвет фона главной страницы, чтобы увеличить вовлеченность пользователей</td>\n",
       "      <td>3</td>\n",
       "      <td>1</td>\n",
       "      <td>1</td>\n",
       "      <td>1</td>\n",
       "      <td>1.0</td>\n",
       "    </tr>\n",
       "  </tbody>\n",
       "</table>\n",
       "</div>"
      ],
      "text/plain": [
       "                                                                                                     Hypothesis  \\\n",
       "8  Запустить акцию, дающую скидку на товар в день рождения                                                        \n",
       "0  Добавить два новых канала привлечения трафика, что позволит привлекать на 30% больше пользователей             \n",
       "7  Добавить форму подписки на все основные страницы, чтобы собрать базу клиентов для email-рассылок               \n",
       "6  Показать на главной странице баннеры с актуальными акциями и распродажами, чтобы увеличить конверсию           \n",
       "2  Добавить блоки рекомендаций товаров на сайт интернет магазина, чтобы повысить конверсию и средний чек заказа   \n",
       "1  Запустить собственную службу доставки, что сократит срок доставки заказов                                      \n",
       "5  Добавить страницу отзывов клиентов о магазине, что позволит увеличить количество заказов                       \n",
       "3  Изменить структура категорий, что увеличит конверсию, т.к. пользователи быстрее найдут нужный товар            \n",
       "4  Изменить цвет фона главной страницы, чтобы увеличить вовлеченность пользователей                               \n",
       "\n",
       "   Reach  Impact  Confidence  Efforts  ICE_score  \n",
       "8  1      9       9           5        16.2       \n",
       "0  3      10      8           6        13.3       \n",
       "7  10     7       8           5        11.2       \n",
       "6  5      3       8           3        8.0        \n",
       "2  8      3       7           3        7.0        \n",
       "1  2      5       4           10       2.0        \n",
       "5  3      2       2           3        1.3        \n",
       "3  8      3       3           8        1.1        \n",
       "4  3      1       1           1        1.0        "
      ]
     },
     "execution_count": 4,
     "metadata": {},
     "output_type": "execute_result"
    }
   ],
   "source": [
    "# add a column with the ICE score to the table and sort the data in descending order of priority\n",
    "hypot['ICE_score'] = round((hypot['Impact'] * hypot['Confidence']) / hypot['Efforts'],1)\n",
    "hypot.sort_values(by='ICE_score',ascending=False)"
   ]
  },
  {
   "cell_type": "markdown",
   "metadata": {},
   "source": [
    "### Prioritization based on the RICE system"
   ]
  },
  {
   "cell_type": "code",
   "execution_count": 5,
   "metadata": {},
   "outputs": [
    {
     "data": {
      "text/html": [
       "<div>\n",
       "<style scoped>\n",
       "    .dataframe tbody tr th:only-of-type {\n",
       "        vertical-align: middle;\n",
       "    }\n",
       "\n",
       "    .dataframe tbody tr th {\n",
       "        vertical-align: top;\n",
       "    }\n",
       "\n",
       "    .dataframe thead th {\n",
       "        text-align: right;\n",
       "    }\n",
       "</style>\n",
       "<table border=\"1\" class=\"dataframe\">\n",
       "  <thead>\n",
       "    <tr style=\"text-align: right;\">\n",
       "      <th></th>\n",
       "      <th>Hypothesis</th>\n",
       "      <th>Reach</th>\n",
       "      <th>Impact</th>\n",
       "      <th>Confidence</th>\n",
       "      <th>Efforts</th>\n",
       "      <th>ICE_score</th>\n",
       "      <th>RICE_score</th>\n",
       "    </tr>\n",
       "  </thead>\n",
       "  <tbody>\n",
       "    <tr>\n",
       "      <th>7</th>\n",
       "      <td>Добавить форму подписки на все основные страницы, чтобы собрать базу клиентов для email-рассылок</td>\n",
       "      <td>10</td>\n",
       "      <td>7</td>\n",
       "      <td>8</td>\n",
       "      <td>5</td>\n",
       "      <td>11.2</td>\n",
       "      <td>112.0</td>\n",
       "    </tr>\n",
       "    <tr>\n",
       "      <th>2</th>\n",
       "      <td>Добавить блоки рекомендаций товаров на сайт интернет магазина, чтобы повысить конверсию и средний чек заказа</td>\n",
       "      <td>8</td>\n",
       "      <td>3</td>\n",
       "      <td>7</td>\n",
       "      <td>3</td>\n",
       "      <td>7.0</td>\n",
       "      <td>56.0</td>\n",
       "    </tr>\n",
       "    <tr>\n",
       "      <th>6</th>\n",
       "      <td>Показать на главной странице баннеры с актуальными акциями и распродажами, чтобы увеличить конверсию</td>\n",
       "      <td>5</td>\n",
       "      <td>3</td>\n",
       "      <td>8</td>\n",
       "      <td>3</td>\n",
       "      <td>8.0</td>\n",
       "      <td>40.0</td>\n",
       "    </tr>\n",
       "    <tr>\n",
       "      <th>0</th>\n",
       "      <td>Добавить два новых канала привлечения трафика, что позволит привлекать на 30% больше пользователей</td>\n",
       "      <td>3</td>\n",
       "      <td>10</td>\n",
       "      <td>8</td>\n",
       "      <td>6</td>\n",
       "      <td>13.3</td>\n",
       "      <td>39.9</td>\n",
       "    </tr>\n",
       "    <tr>\n",
       "      <th>8</th>\n",
       "      <td>Запустить акцию, дающую скидку на товар в день рождения</td>\n",
       "      <td>1</td>\n",
       "      <td>9</td>\n",
       "      <td>9</td>\n",
       "      <td>5</td>\n",
       "      <td>16.2</td>\n",
       "      <td>16.2</td>\n",
       "    </tr>\n",
       "    <tr>\n",
       "      <th>3</th>\n",
       "      <td>Изменить структура категорий, что увеличит конверсию, т.к. пользователи быстрее найдут нужный товар</td>\n",
       "      <td>8</td>\n",
       "      <td>3</td>\n",
       "      <td>3</td>\n",
       "      <td>8</td>\n",
       "      <td>1.1</td>\n",
       "      <td>8.8</td>\n",
       "    </tr>\n",
       "    <tr>\n",
       "      <th>1</th>\n",
       "      <td>Запустить собственную службу доставки, что сократит срок доставки заказов</td>\n",
       "      <td>2</td>\n",
       "      <td>5</td>\n",
       "      <td>4</td>\n",
       "      <td>10</td>\n",
       "      <td>2.0</td>\n",
       "      <td>4.0</td>\n",
       "    </tr>\n",
       "    <tr>\n",
       "      <th>5</th>\n",
       "      <td>Добавить страницу отзывов клиентов о магазине, что позволит увеличить количество заказов</td>\n",
       "      <td>3</td>\n",
       "      <td>2</td>\n",
       "      <td>2</td>\n",
       "      <td>3</td>\n",
       "      <td>1.3</td>\n",
       "      <td>3.9</td>\n",
       "    </tr>\n",
       "    <tr>\n",
       "      <th>4</th>\n",
       "      <td>Изменить цвет фона главной страницы, чтобы увеличить вовлеченность пользователей</td>\n",
       "      <td>3</td>\n",
       "      <td>1</td>\n",
       "      <td>1</td>\n",
       "      <td>1</td>\n",
       "      <td>1.0</td>\n",
       "      <td>3.0</td>\n",
       "    </tr>\n",
       "  </tbody>\n",
       "</table>\n",
       "</div>"
      ],
      "text/plain": [
       "                                                                                                     Hypothesis  \\\n",
       "7  Добавить форму подписки на все основные страницы, чтобы собрать базу клиентов для email-рассылок               \n",
       "2  Добавить блоки рекомендаций товаров на сайт интернет магазина, чтобы повысить конверсию и средний чек заказа   \n",
       "6  Показать на главной странице баннеры с актуальными акциями и распродажами, чтобы увеличить конверсию           \n",
       "0  Добавить два новых канала привлечения трафика, что позволит привлекать на 30% больше пользователей             \n",
       "8  Запустить акцию, дающую скидку на товар в день рождения                                                        \n",
       "3  Изменить структура категорий, что увеличит конверсию, т.к. пользователи быстрее найдут нужный товар            \n",
       "1  Запустить собственную службу доставки, что сократит срок доставки заказов                                      \n",
       "5  Добавить страницу отзывов клиентов о магазине, что позволит увеличить количество заказов                       \n",
       "4  Изменить цвет фона главной страницы, чтобы увеличить вовлеченность пользователей                               \n",
       "\n",
       "   Reach  Impact  Confidence  Efforts  ICE_score  RICE_score  \n",
       "7  10     7       8           5        11.2       112.0       \n",
       "2  8      3       7           3        7.0        56.0        \n",
       "6  5      3       8           3        8.0        40.0        \n",
       "0  3      10      8           6        13.3       39.9        \n",
       "8  1      9       9           5        16.2       16.2        \n",
       "3  8      3       3           8        1.1        8.8         \n",
       "1  2      5       4           10       2.0        4.0         \n",
       "5  3      2       2           3        1.3        3.9         \n",
       "4  3      1       1           1        1.0        3.0         "
      ]
     },
     "execution_count": 5,
     "metadata": {},
     "output_type": "execute_result"
    }
   ],
   "source": [
    "# add a column with the RICE score to the table and sort the data in descending order of priority\n",
    "hypot['RICE_score'] = round(hypot['ICE_score']*hypot['Reach'],1)\n",
    "hypot.sort_values(by='RICE_score',ascending=False)"
   ]
  },
  {
   "cell_type": "markdown",
   "metadata": {},
   "source": [
    "### Analysis of the results of two types of prioritization"
   ]
  },
  {
   "cell_type": "markdown",
   "metadata": {},
   "source": [
    "According to the ICE system, the prioritized hypotheses are 8, 0, 7, 6, 2.\n",
    "And according to the RICE system, they are 7, 2, 6, 0, 8.\n",
    "\n",
    "The shift of some hypotheses up in the priority order in RICE was due to a high reach (Reach) indicator. This is the only parameter that differentiates RICE from ICE."
   ]
  },
  {
   "cell_type": "markdown",
   "metadata": {},
   "source": [
    "<font color='BlueViolet'>\n",
    "<b>Conclusion</b></font>\n",
    "Therefore, it is advisable to start with hypotheses 7, 2, 6, as they were already in the top 5 priority tasks according to ICE, and they have risen higher in the list according to RICE. These hypotheses will reach more users than hypotheses 8 and 0, which is important to consider."
   ]
  },
  {
   "cell_type": "markdown",
   "metadata": {},
   "source": [
    "## A/B test analysis"
   ]
  },
  {
   "cell_type": "code",
   "execution_count": 6,
   "metadata": {},
   "outputs": [],
   "source": [
    "try:\n",
    "    orders = pd.read_csv('/datasets/orders.csv')\n",
    "    visitors = pd.read_csv('/datasets/visitors.csv')\n",
    "except Exception as e:\n",
    "    orders = pd.read_csv('/home/nesmakate/Downloads/Yandex Practicim/Projects/Project_Принятие решений в бизнесе/orders.csv')\n",
    "    visitors = pd.read_csv('/home/nesmakate/Downloads/Yandex Practicim/Projects/Project_Принятие решений в бизнесе/visitors.csv')"
   ]
  },
  {
   "cell_type": "code",
   "execution_count": 7,
   "metadata": {},
   "outputs": [
    {
     "data": {
      "text/html": [
       "<div>\n",
       "<style scoped>\n",
       "    .dataframe tbody tr th:only-of-type {\n",
       "        vertical-align: middle;\n",
       "    }\n",
       "\n",
       "    .dataframe tbody tr th {\n",
       "        vertical-align: top;\n",
       "    }\n",
       "\n",
       "    .dataframe thead th {\n",
       "        text-align: right;\n",
       "    }\n",
       "</style>\n",
       "<table border=\"1\" class=\"dataframe\">\n",
       "  <thead>\n",
       "    <tr style=\"text-align: right;\">\n",
       "      <th></th>\n",
       "      <th>transactionId</th>\n",
       "      <th>visitorId</th>\n",
       "      <th>date</th>\n",
       "      <th>revenue</th>\n",
       "      <th>group</th>\n",
       "    </tr>\n",
       "  </thead>\n",
       "  <tbody>\n",
       "    <tr>\n",
       "      <th>0</th>\n",
       "      <td>3667963787</td>\n",
       "      <td>3312258926</td>\n",
       "      <td>2019-08-15</td>\n",
       "      <td>1650</td>\n",
       "      <td>B</td>\n",
       "    </tr>\n",
       "    <tr>\n",
       "      <th>1</th>\n",
       "      <td>2804400009</td>\n",
       "      <td>3642806036</td>\n",
       "      <td>2019-08-15</td>\n",
       "      <td>730</td>\n",
       "      <td>B</td>\n",
       "    </tr>\n",
       "    <tr>\n",
       "      <th>2</th>\n",
       "      <td>2961555356</td>\n",
       "      <td>4069496402</td>\n",
       "      <td>2019-08-15</td>\n",
       "      <td>400</td>\n",
       "      <td>A</td>\n",
       "    </tr>\n",
       "    <tr>\n",
       "      <th>3</th>\n",
       "      <td>3797467345</td>\n",
       "      <td>1196621759</td>\n",
       "      <td>2019-08-15</td>\n",
       "      <td>9759</td>\n",
       "      <td>B</td>\n",
       "    </tr>\n",
       "    <tr>\n",
       "      <th>4</th>\n",
       "      <td>2282983706</td>\n",
       "      <td>2322279887</td>\n",
       "      <td>2019-08-15</td>\n",
       "      <td>2308</td>\n",
       "      <td>B</td>\n",
       "    </tr>\n",
       "  </tbody>\n",
       "</table>\n",
       "</div>"
      ],
      "text/plain": [
       "   transactionId   visitorId        date  revenue group\n",
       "0  3667963787     3312258926  2019-08-15  1650     B   \n",
       "1  2804400009     3642806036  2019-08-15  730      B   \n",
       "2  2961555356     4069496402  2019-08-15  400      A   \n",
       "3  3797467345     1196621759  2019-08-15  9759     B   \n",
       "4  2282983706     2322279887  2019-08-15  2308     B   "
      ]
     },
     "execution_count": 7,
     "metadata": {},
     "output_type": "execute_result"
    }
   ],
   "source": [
    "orders.head(5)"
   ]
  },
  {
   "cell_type": "code",
   "execution_count": 8,
   "metadata": {},
   "outputs": [
    {
     "name": "stdout",
     "output_type": "stream",
     "text": [
      "<class 'pandas.core.frame.DataFrame'>\n",
      "RangeIndex: 1197 entries, 0 to 1196\n",
      "Data columns (total 5 columns):\n",
      " #   Column         Non-Null Count  Dtype \n",
      "---  ------         --------------  ----- \n",
      " 0   transactionId  1197 non-null   int64 \n",
      " 1   visitorId      1197 non-null   int64 \n",
      " 2   date           1197 non-null   object\n",
      " 3   revenue        1197 non-null   int64 \n",
      " 4   group          1197 non-null   object\n",
      "dtypes: int64(3), object(2)\n",
      "memory usage: 46.9+ KB\n"
     ]
    }
   ],
   "source": [
    "# check the basic information about the data\n",
    "orders.info()"
   ]
  },
  {
   "cell_type": "code",
   "execution_count": 9,
   "metadata": {},
   "outputs": [
    {
     "data": {
      "text/html": [
       "<div>\n",
       "<style scoped>\n",
       "    .dataframe tbody tr th:only-of-type {\n",
       "        vertical-align: middle;\n",
       "    }\n",
       "\n",
       "    .dataframe tbody tr th {\n",
       "        vertical-align: top;\n",
       "    }\n",
       "\n",
       "    .dataframe thead th {\n",
       "        text-align: right;\n",
       "    }\n",
       "</style>\n",
       "<table border=\"1\" class=\"dataframe\">\n",
       "  <thead>\n",
       "    <tr style=\"text-align: right;\">\n",
       "      <th></th>\n",
       "      <th>date</th>\n",
       "      <th>group</th>\n",
       "      <th>visitors</th>\n",
       "    </tr>\n",
       "  </thead>\n",
       "  <tbody>\n",
       "    <tr>\n",
       "      <th>0</th>\n",
       "      <td>2019-08-01</td>\n",
       "      <td>A</td>\n",
       "      <td>719</td>\n",
       "    </tr>\n",
       "    <tr>\n",
       "      <th>1</th>\n",
       "      <td>2019-08-02</td>\n",
       "      <td>A</td>\n",
       "      <td>619</td>\n",
       "    </tr>\n",
       "    <tr>\n",
       "      <th>2</th>\n",
       "      <td>2019-08-03</td>\n",
       "      <td>A</td>\n",
       "      <td>507</td>\n",
       "    </tr>\n",
       "    <tr>\n",
       "      <th>3</th>\n",
       "      <td>2019-08-04</td>\n",
       "      <td>A</td>\n",
       "      <td>717</td>\n",
       "    </tr>\n",
       "    <tr>\n",
       "      <th>4</th>\n",
       "      <td>2019-08-05</td>\n",
       "      <td>A</td>\n",
       "      <td>756</td>\n",
       "    </tr>\n",
       "  </tbody>\n",
       "</table>\n",
       "</div>"
      ],
      "text/plain": [
       "         date group  visitors\n",
       "0  2019-08-01  A     719     \n",
       "1  2019-08-02  A     619     \n",
       "2  2019-08-03  A     507     \n",
       "3  2019-08-04  A     717     \n",
       "4  2019-08-05  A     756     "
      ]
     },
     "execution_count": 9,
     "metadata": {},
     "output_type": "execute_result"
    }
   ],
   "source": [
    "# check the basic information about the data\n",
    "visitors.head(5)"
   ]
  },
  {
   "cell_type": "code",
   "execution_count": 10,
   "metadata": {},
   "outputs": [
    {
     "name": "stdout",
     "output_type": "stream",
     "text": [
      "<class 'pandas.core.frame.DataFrame'>\n",
      "RangeIndex: 62 entries, 0 to 61\n",
      "Data columns (total 3 columns):\n",
      " #   Column    Non-Null Count  Dtype \n",
      "---  ------    --------------  ----- \n",
      " 0   date      62 non-null     object\n",
      " 1   group     62 non-null     object\n",
      " 2   visitors  62 non-null     int64 \n",
      "dtypes: int64(1), object(2)\n",
      "memory usage: 1.6+ KB\n"
     ]
    }
   ],
   "source": [
    "# check the basic information about the data\n",
    "visitors.info()"
   ]
  },
  {
   "cell_type": "code",
   "execution_count": 11,
   "metadata": {},
   "outputs": [
    {
     "name": "stdout",
     "output_type": "stream",
     "text": [
      "0 0\n"
     ]
    }
   ],
   "source": [
    "# check number of duplicates\n",
    "print(sum(orders.duplicated()),sum(visitors.duplicated()))"
   ]
  },
  {
   "cell_type": "code",
   "execution_count": 12,
   "metadata": {},
   "outputs": [],
   "source": [
    "# change column format with dates\n",
    "orders['date'] = pd.to_datetime(orders['date']).dt.date\n",
    "visitors['date'] = pd.to_datetime(visitors['date']).dt.date\n",
    "\n",
    "# change column names to one style\n",
    "orders = orders.rename(columns = {'transactionId' : 'transaction_id',\n",
    "                                  'visitorId' : 'visitor_id'})"
   ]
  },
  {
   "cell_type": "markdown",
   "metadata": {},
   "source": [
    "**Теперь изучим подробне данные с результатами A/B-теста**"
   ]
  },
  {
   "cell_type": "code",
   "execution_count": 13,
   "metadata": {},
   "outputs": [
    {
     "name": "stdout",
     "output_type": "stream",
     "text": [
      "Groups of test from orders: ['B' 'A']\n",
      "Groups of test from visitors: ['A' 'B']\n"
     ]
    }
   ],
   "source": [
    "print('Groups of test from orders:',orders['group'].unique())\n",
    "print('Groups of test from visitors:',visitors['group'].unique())"
   ]
  },
  {
   "cell_type": "code",
   "execution_count": 14,
   "metadata": {},
   "outputs": [
    {
     "name": "stdout",
     "output_type": "stream",
     "text": [
      "first date of test: 2019-08-01\n",
      "last date of test: 2019-08-31\n"
     ]
    }
   ],
   "source": [
    "min_date = visitors['date'].min()\n",
    "max_date = visitors['date'].max()\n",
    "print(f'first date of test: {min_date}\\nlast date of test: {max_date}')"
   ]
  },
  {
   "cell_type": "code",
   "execution_count": 15,
   "metadata": {},
   "outputs": [
    {
     "name": "stdout",
     "output_type": "stream",
     "text": [
      "All visitors:1031\n",
      "Visitors in both groups:58\n",
      "Percantage of such visitors:5.6%\n"
     ]
    }
   ],
   "source": [
    "# get number of visitors, included into both test groups\n",
    "mixed_visitors = orders.groupby('visitor_id')['group'].nunique()\n",
    "mixed_visitors = len(mixed_visitors.loc[lambda x : x > 1])\n",
    "# get number of visitors\n",
    "count_visitors = len(orders['visitor_id'].unique())\n",
    "percent_mixed = mixed_visitors / count_visitors \n",
    "\n",
    "print(f'All visitors:{count_visitors}\\nVisitors in both groups:{mixed_visitors}\\nPercantage of such visitors:{\"{0:.1%}\".format(percent_mixed)}')"
   ]
  },
  {
   "cell_type": "markdown",
   "metadata": {},
   "source": [
    "There are users who are in both test groups. They make up only 5.6% of the total. It's not possible to make a fair assessment of the results for such users, so we will remove them from the data."
   ]
  },
  {
   "cell_type": "code",
   "execution_count": 16,
   "metadata": {},
   "outputs": [
    {
     "name": "stdout",
     "output_type": "stream",
     "text": [
      "Count of visitors:973\n"
     ]
    }
   ],
   "source": [
    "# make a list of visitors\n",
    "delete_visitors = orders.groupby('visitor_id')['group'].nunique().loc[lambda x : x > 1]\n",
    "# cleane file - order from such visitors by id\n",
    "orders = orders[np.logical_not(orders['visitor_id'].isin(delete_visitors.index))]\n",
    "\n",
    "count_visitors = len(orders['visitor_id'].unique())\n",
    "print(f'Count of visitors:{count_visitors}')"
   ]
  },
  {
   "cell_type": "markdown",
   "metadata": {},
   "source": [
    "No critical issues with the data were found. There were no clear duplicates either. However, 5.6% of the users were in both test groups. The data for these users was excluded for accurate analysis in the future. Only the date format in both tables and column names were corrected."
   ]
  },
  {
   "cell_type": "markdown",
   "metadata": {},
   "source": [
    "### Building cumulative metric charts"
   ]
  },
  {
   "cell_type": "markdown",
   "metadata": {},
   "source": [
    "To create graphs, we need to accumulate data first. Let's prepare the data step by step"
   ]
  },
  {
   "cell_type": "code",
   "execution_count": 17,
   "metadata": {},
   "outputs": [
    {
     "data": {
      "text/html": [
       "<div>\n",
       "<style scoped>\n",
       "    .dataframe tbody tr th:only-of-type {\n",
       "        vertical-align: middle;\n",
       "    }\n",
       "\n",
       "    .dataframe tbody tr th {\n",
       "        vertical-align: top;\n",
       "    }\n",
       "\n",
       "    .dataframe thead th {\n",
       "        text-align: right;\n",
       "    }\n",
       "</style>\n",
       "<table border=\"1\" class=\"dataframe\">\n",
       "  <thead>\n",
       "    <tr style=\"text-align: right;\">\n",
       "      <th></th>\n",
       "      <th>date</th>\n",
       "      <th>group</th>\n",
       "    </tr>\n",
       "  </thead>\n",
       "  <tbody>\n",
       "    <tr>\n",
       "      <th>0</th>\n",
       "      <td>2019-08-15</td>\n",
       "      <td>B</td>\n",
       "    </tr>\n",
       "    <tr>\n",
       "      <th>7</th>\n",
       "      <td>2019-08-15</td>\n",
       "      <td>A</td>\n",
       "    </tr>\n",
       "    <tr>\n",
       "      <th>45</th>\n",
       "      <td>2019-08-16</td>\n",
       "      <td>A</td>\n",
       "    </tr>\n",
       "    <tr>\n",
       "      <th>47</th>\n",
       "      <td>2019-08-16</td>\n",
       "      <td>B</td>\n",
       "    </tr>\n",
       "    <tr>\n",
       "      <th>55</th>\n",
       "      <td>2019-08-01</td>\n",
       "      <td>A</td>\n",
       "    </tr>\n",
       "  </tbody>\n",
       "</table>\n",
       "</div>"
      ],
      "text/plain": [
       "          date group\n",
       "0   2019-08-15  B   \n",
       "7   2019-08-15  A   \n",
       "45  2019-08-16  A   \n",
       "47  2019-08-16  B   \n",
       "55  2019-08-01  A   "
      ]
     },
     "execution_count": 17,
     "metadata": {},
     "output_type": "execute_result"
    }
   ],
   "source": [
    "# create an array of unique date and test group value pairs to collect cumulative data\n",
    "data_groups = orders[['date','group']].drop_duplicates() \n",
    "data_groups.head()"
   ]
  },
  {
   "cell_type": "markdown",
   "metadata": {},
   "source": [
    "Aggregate cumulative daily order data according to their test group"
   ]
  },
  {
   "cell_type": "code",
   "execution_count": 18,
   "metadata": {},
   "outputs": [],
   "source": [
    "orders_cumulative = data_groups\\\n",
    "                    .apply(lambda x: orders[\n",
    "                                            np.logical_and(orders['date'] <= x['date'], \n",
    "                                                           orders['group'] == x['group'])\n",
    "                                           ]\\\n",
    "                                           .agg(\n",
    "                                                {'date': 'max',\n",
    "                                                'group': 'max',\n",
    "                                                'transaction_id': 'nunique',\n",
    "                                                'visitor_id': 'nunique',\n",
    "                                                'revenue': 'sum'}\n",
    "                                               ),axis=1\n",
    "                          )\\\n",
    "                          .sort_values(by=['date', 'group'])"
   ]
  },
  {
   "cell_type": "markdown",
   "metadata": {},
   "source": [
    "Similarly, obtain aggregated cumulative daily visitor data for the online store according to their test group"
   ]
  },
  {
   "cell_type": "code",
   "execution_count": 19,
   "metadata": {},
   "outputs": [],
   "source": [
    "visitors_cumulative = data_groups\\\n",
    "                      .apply(lambda x: visitors[\n",
    "                                                np.logical_and(visitors['date'] <= x['date'],\n",
    "                                                               visitors['group'] <= x['group'])\n",
    "                                                ]\\\n",
    "                                                .agg({'date': 'max',\n",
    "                                                      'group': 'max',\n",
    "                                                      'visitors': 'sum'}\n",
    "                                                    ),axis=1\n",
    "                            )\\\n",
    "                            .sort_values(by=['date', 'group'])"
   ]
  },
  {
   "cell_type": "markdown",
   "metadata": {},
   "source": [
    "Now let's merge these two tables and make a dataframe 'data_cumulative' with columns:\n",
    "\n",
    "- date: date;\n",
    "- group: A/B test group (A or B);\n",
    "- orders: cumulative number of orders for the specified date in the specified group;\n",
    "- buyers: cumulative number of users who made at least one order on the specified date in the specified group;\n",
    "- revenue: cumulative revenue for the specified date in the specified group;\n",
    "- visitors: cumulative number of visitors to the online store on the specified date in the specified group.\""
   ]
  },
  {
   "cell_type": "code",
   "execution_count": 20,
   "metadata": {
    "scrolled": true
   },
   "outputs": [
    {
     "data": {
      "text/html": [
       "<div>\n",
       "<style scoped>\n",
       "    .dataframe tbody tr th:only-of-type {\n",
       "        vertical-align: middle;\n",
       "    }\n",
       "\n",
       "    .dataframe tbody tr th {\n",
       "        vertical-align: top;\n",
       "    }\n",
       "\n",
       "    .dataframe thead th {\n",
       "        text-align: right;\n",
       "    }\n",
       "</style>\n",
       "<table border=\"1\" class=\"dataframe\">\n",
       "  <thead>\n",
       "    <tr style=\"text-align: right;\">\n",
       "      <th></th>\n",
       "      <th>date</th>\n",
       "      <th>group</th>\n",
       "      <th>orders</th>\n",
       "      <th>buyers</th>\n",
       "      <th>revenue</th>\n",
       "      <th>visitors</th>\n",
       "    </tr>\n",
       "  </thead>\n",
       "  <tbody>\n",
       "    <tr>\n",
       "      <th>0</th>\n",
       "      <td>2019-08-01</td>\n",
       "      <td>A</td>\n",
       "      <td>23</td>\n",
       "      <td>19</td>\n",
       "      <td>142779</td>\n",
       "      <td>719</td>\n",
       "    </tr>\n",
       "    <tr>\n",
       "      <th>1</th>\n",
       "      <td>2019-08-01</td>\n",
       "      <td>B</td>\n",
       "      <td>17</td>\n",
       "      <td>17</td>\n",
       "      <td>59758</td>\n",
       "      <td>1432</td>\n",
       "    </tr>\n",
       "    <tr>\n",
       "      <th>2</th>\n",
       "      <td>2019-08-02</td>\n",
       "      <td>A</td>\n",
       "      <td>42</td>\n",
       "      <td>36</td>\n",
       "      <td>234381</td>\n",
       "      <td>1338</td>\n",
       "    </tr>\n",
       "    <tr>\n",
       "      <th>3</th>\n",
       "      <td>2019-08-02</td>\n",
       "      <td>B</td>\n",
       "      <td>40</td>\n",
       "      <td>39</td>\n",
       "      <td>221801</td>\n",
       "      <td>2632</td>\n",
       "    </tr>\n",
       "    <tr>\n",
       "      <th>4</th>\n",
       "      <td>2019-08-03</td>\n",
       "      <td>A</td>\n",
       "      <td>66</td>\n",
       "      <td>60</td>\n",
       "      <td>346854</td>\n",
       "      <td>1845</td>\n",
       "    </tr>\n",
       "  </tbody>\n",
       "</table>\n",
       "</div>"
      ],
      "text/plain": [
       "         date group  orders  buyers  revenue  visitors\n",
       "0  2019-08-01  A     23      19      142779   719     \n",
       "1  2019-08-01  B     17      17      59758    1432    \n",
       "2  2019-08-02  A     42      36      234381   1338    \n",
       "3  2019-08-02  B     40      39      221801   2632    \n",
       "4  2019-08-03  A     66      60      346854   1845    "
      ]
     },
     "execution_count": 20,
     "metadata": {},
     "output_type": "execute_result"
    }
   ],
   "source": [
    "data_cumulative = orders_cumulative.merge(\n",
    "                                          visitors_cumulative, \n",
    "                                          left_on=['date', 'group'], \n",
    "                                          right_on=['date', 'group']\n",
    "                                          )\n",
    "# change columns names\n",
    "data_cumulative.columns = ['date','group','orders','buyers','revenue','visitors']\n",
    "data_cumulative.head()"
   ]
  },
  {
   "cell_type": "code",
   "execution_count": 21,
   "metadata": {},
   "outputs": [],
   "source": [
    "# aggregate data for А and B groups separately\n",
    "data_cumulative_A = data_cumulative[data_cumulative['group']== 'A']\n",
    "data_cumulative_B = data_cumulative[data_cumulative['group']== 'B']"
   ]
  },
  {
   "cell_type": "markdown",
   "metadata": {},
   "source": [
    "These dataframes will be used later to make cgarts"
   ]
  },
  {
   "cell_type": "markdown",
   "metadata": {},
   "source": [
    "#### Cumulative revenue chart by groups"
   ]
  },
  {
   "cell_type": "code",
   "execution_count": 22,
   "metadata": {},
   "outputs": [
    {
     "data": {
      "text/plain": [
       "Text(0.5, 1.0, 'Cumulative revenue chart by groups')"
      ]
     },
     "execution_count": 22,
     "metadata": {},
     "output_type": "execute_result"
    },
    {
     "data": {
      "image/png": "[encoded data removed]",
      "text/plain": [
       "<Figure size 1200x400 with 1 Axes>"
      ]
     },
     "metadata": {},
     "output_type": "display_data"
    }
   ],
   "source": [
    "# make revenue chart by groups\n",
    "plt.figure(figsize=(12, 4))\n",
    "\n",
    "plt.plot(data_cumulative_A['date'],data_cumulative_A['revenue'],label='A')\n",
    "plt.plot(data_cumulative_B['date'],data_cumulative_B['revenue'],label='B')\n",
    "\n",
    "plt.legend()\n",
    "plt.xlabel('Date')\n",
    "plt.ylabel('Revenue')\n",
    "plt.title('Cumulative revenue chart by groups')"
   ]
  },
  {
   "cell_type": "markdown",
   "metadata": {},
   "source": [
    "The revenue for both groups gradually increases throughout the test. Group B is ahead in terms of total revenue compared to Group A, but there is a noticeable 'jump' in revenue between August 18, 2019, and August 21, 2012.\n",
    "\n",
    "This may indicate spikes in the number of orders or the presence of very expensive orders in the sample. Later, we will check this period for anomalies."
   ]
  },
  {
   "cell_type": "markdown",
   "metadata": {},
   "source": [
    "#### Chart of cumulative average bill by groups."
   ]
  },
  {
   "cell_type": "code",
   "execution_count": 23,
   "metadata": {},
   "outputs": [
    {
     "data": {
      "text/plain": [
       "Text(0.5, 1.0, 'Chart of cumulative average bill by groups.')"
      ]
     },
     "execution_count": 23,
     "metadata": {},
     "output_type": "execute_result"
    },
    {
     "data": {
      "image/png": "[encoded data removed]",
      "text/plain": [
       "<Figure size 1200x400 with 1 Axes>"
      ]
     },
     "metadata": {},
     "output_type": "display_data"
    }
   ],
   "source": [
    "# make chart of cumulative average bill by groups.\n",
    "plt.figure(figsize=(12, 4))\n",
    "\n",
    "plt.plot(data_cumulative_A['date'],data_cumulative_A['revenue']/data_cumulative_A['orders'],label='A')\n",
    "plt.plot(data_cumulative_B['date'],data_cumulative_B['revenue']/data_cumulative_B['orders'],label='B')\n",
    "\n",
    "plt.legend()\n",
    "plt.grid()\n",
    "plt.xlabel('Date')\n",
    "plt.ylabel('Average bill sum')\n",
    "plt.title('Chart of cumulative average bill by groups.')"
   ]
  },
  {
   "cell_type": "markdown",
   "metadata": {},
   "source": [
    "Both charts have a slight upward trend, but the average bill for both groups is quite unstable and clearly has outliers.\n",
    "\n",
    "The average bill for Group A stabilizes only in the middle of the test period at around 7000 and increases to 7400. The average bill for Group B is highly unstable until the middle of the test period, and then it experiences a sharp jump from 7000 to over 10000, followed by a gradual decline.\n",
    "\n",
    "Both groups have obvious outliers, but the most noticeable and concerning one is in Group B between August 18, 2019, and August 21, 2012. This same spike was evident on the revenue chart by groups. For Group A, it is worth checking two anomalies - August 13, 2019 (growth) and the period between August 5, 2019, and August 9, 2019 (drop)."
   ]
  },
  {
   "cell_type": "markdown",
   "metadata": {},
   "source": [
    "#### Chart of the relative change in cumulative average check of Group B compared to Group A"
   ]
  },
  {
   "cell_type": "code",
   "execution_count": 25,
   "metadata": {},
   "outputs": [
    {
     "data": {
      "text/plain": [
       "Text(0.5, 1.0, 'Chart of the relative change in cumulative average check of Group B compared to Group A')"
      ]
     },
     "execution_count": 25,
     "metadata": {},
     "output_type": "execute_result"
    },
    {
     "data": {
      "image/png": "[encoded data removed]",
      "text/plain": [
       "<Figure size 1200x400 with 1 Axes>"
      ]
     },
     "metadata": {},
     "output_type": "display_data"
    }
   ],
   "source": [
    "plt.figure(figsize=(12, 4))\n",
    "# accumulate data\n",
    "avg_cumulative_merged = data_cumulative_A[['date','revenue','orders']]\\\n",
    "                                        .merge(data_cumulative_B[['date','revenue','orders']], \n",
    "                                                 left_on='date', right_on='date', how='left', suffixes=['A', 'B'])\n",
    "\n",
    "# the ratio of average check\n",
    "plt.plot(avg_cumulative_merged['date'], \n",
    "         (avg_cumulative_merged['revenueB']/avg_cumulative_merged['ordersB'])/(avg_cumulative_merged['revenueA']/avg_cumulative_merged['ordersA'])-1)\n",
    "\n",
    "# add axis X\n",
    "plt.axhline(y=0, color='black', linestyle='--')\n",
    "plt.grid()\n",
    "plt.xlabel('Date')\n",
    "plt.ylabel('Relative change')\n",
    "plt.title('Chart of the relative change in cumulative average check of Group B compared to Group A')"
   ]
  },
  {
   "cell_type": "markdown",
   "metadata": {},
   "source": [
    "The two significant \"jumps\" and one significant \"drop\" on the graph of the relative change in the cumulative average check of group B to group A further confirm the presence of outliers in the data. Most likely, they are related to the sum of orders. However, we will also check the number of orders per group to exclude the option of \"superfans of the online store\" who place 10 times more orders than the average visitors.\n",
    "\n",
    "We will investigate these outliers in the subsequent section of the project."
   ]
  },
  {
   "cell_type": "markdown",
   "metadata": {},
   "source": [
    "#### Chart of cumulative average number of orders per visitor by groups"
   ]
  },
  {
   "cell_type": "code",
   "execution_count": 26,
   "metadata": {},
   "outputs": [
    {
     "data": {
      "text/plain": [
       "Text(0.5, 1.0, 'Chart of cumulative average number of orders per visitor by groups')"
      ]
     },
     "execution_count": 26,
     "metadata": {},
     "output_type": "execute_result"
    },
    {
     "data": {
      "image/png": "[encoded data removed]",
      "text/plain": [
       "<Figure size 1200x400 with 1 Axes>"
      ]
     },
     "metadata": {},
     "output_type": "display_data"
    }
   ],
   "source": [
    "# make chart of cumulative average number of orders per visitor by groups\n",
    "plt.figure(figsize=(12, 4))\n",
    "\n",
    "plt.plot(data_cumulative_A['date'],data_cumulative_A['orders']/data_cumulative_A['visitors'],label='A')\n",
    "plt.plot(data_cumulative_B['date'],data_cumulative_B['orders']/data_cumulative_B['visitors'],label='B')\n",
    "\n",
    "plt.legend()\n",
    "plt.grid()\n",
    "plt.xlabel('Date')\n",
    "plt.ylabel('Average number of orders per visitor')\n",
    "plt.title('Chart of cumulative average number of orders per visitor by groups')"
   ]
  },
  {
   "cell_type": "markdown",
   "metadata": {},
   "source": [
    "Judging by the graph, group A consistently has more orders per visitor. The graph stabilizes around August 10, 2019.\n",
    "\n",
    "The average number of orders per visitor for group A is 0.025, and for group B, it's 0.015."
   ]
  },
  {
   "cell_type": "markdown",
   "metadata": {},
   "source": [
    "#### The chart of the relative change in the cumulative average number of orders per visitor for group B compared to group A."
   ]
  },
  {
   "cell_type": "code",
   "execution_count": 27,
   "metadata": {},
   "outputs": [],
   "source": [
    "# prevent the appearance of a warning sign  SettingWithCopyWarning\n",
    "pd.options.mode.chained_assignment = None\n",
    "# create columns with the average number of orders per visitor\n",
    "data_cumulative_A['avg_count_ord'] = round(data_cumulative_A['orders'] / data_cumulative_A['visitors'],2)\n",
    "data_cumulative_B['avg_count_ord'] = round(data_cumulative_B['orders'] / data_cumulative_B['visitors'],2)"
   ]
  },
  {
   "cell_type": "code",
   "execution_count": 28,
   "metadata": {},
   "outputs": [
    {
     "data": {
      "text/plain": [
       "Text(0.5, 1.0, 'The chart of the relative change in the cumulative average number of orders per visitor for group B compared to group A.')"
      ]
     },
     "execution_count": 28,
     "metadata": {},
     "output_type": "execute_result"
    },
    {
     "data": {
      "image/png": "[encoded data removed]",
      "text/plain": [
       "<Figure size 1200x400 with 1 Axes>"
      ]
     },
     "metadata": {},
     "output_type": "display_data"
    }
   ],
   "source": [
    "plt.figure(figsize=(12, 4))\n",
    "# aggregate data\n",
    "avgcount_cumulative_merged = data_cumulative_A[['date','avg_count_ord']]\\\n",
    "                                          .merge(data_cumulative_B[['date','avg_count_ord']], \n",
    "                                                 left_on='date', right_on='date', how='left', suffixes=['A', 'B'])\n",
    "\n",
    "# the ratio of average bill\n",
    "plt.plot(avgcount_cumulative_merged['date'],\n",
    "         (avgcount_cumulative_merged['avg_count_ordB']/avgcount_cumulative_merged['avg_count_ordA'] - 1)\n",
    "        )\n",
    "# add axis X\n",
    "plt.axhline(y=0, color='black', linestyle='--')\n",
    "plt.grid()\n",
    "plt.xlabel('Date')\n",
    "plt.ylabel('Relative change')\n",
    "plt.title('The chart of the relative change in the cumulative average number of orders per visitor for group B compared to group A.')"
   ]
  },
  {
   "cell_type": "markdown",
   "metadata": {},
   "source": [
    "The chart of relative changes confirms the conclusion from the previous chart - the average number of orders per visitor in group B is different from group A. The spikes on the chart may be related to outliers in the data."
   ]
  },
  {
   "cell_type": "markdown",
   "metadata": {},
   "source": [
    "<font color='BlueViolet'>\n",
    "<b>Pre-conclusion </b></font>\n",
    "\n",
    "Two user groups, A and B, were considered.\n",
    "\n",
    "The cumulative revenue for both groups gradually increases during the test, and the cumulative average check is unstable but slightly rising.\n",
    "The average check for group A ranges from 7000 to 7400, while for group B, it ranges from 7000 to 10000 (with a sharp jump in the sum on the chart).\n",
    "\n",
    "Based on these metrics, group A appears to perform worse than group B. However, group A consistently has twice as many orders per visitor compared to group B.\n",
    "\n",
    "Additionally, the chart of relative changes in the cumulative average check of group B to group A shows several significant fluctuations, indicating the presence of \"outliers\" in the data. These outliers are expected to be related to order totals."
   ]
  },
  {
   "cell_type": "markdown",
   "metadata": {},
   "source": [
    "### Creating scatter plots, defining percentiles, and studying anomalies"
   ]
  },
  {
   "cell_type": "markdown",
   "metadata": {},
   "source": [
    "#### Scatter plot of the number of orders per visitor, calculating percentiles"
   ]
  },
  {
   "cell_type": "code",
   "execution_count": 29,
   "metadata": {},
   "outputs": [
    {
     "name": "stdout",
     "output_type": "stream",
     "text": [
      "[1. 1. 2.]\n"
     ]
    },
    {
     "data": {
      "image/png": "[encoded data removed]",
      "text/plain": [
       "<Figure size 600x400 with 1 Axes>"
      ]
     },
     "metadata": {},
     "output_type": "display_data"
    }
   ],
   "source": [
    "# gather data on the number of orders per visitor\n",
    "data_orders = orders.groupby('visitor_id', as_index=False)\\\n",
    "                    .agg({'transaction_id':'nunique'})\n",
    "data_orders.columns = ['visitor_id', 'n_orders']\n",
    "\n",
    "# make a plot\n",
    "plt.figure(figsize=(6, 4))\n",
    "x_values = pd.Series(range(0, len(data_orders)))\n",
    "plt.scatter(x_values, data_orders['n_orders']) \n",
    "plt.xlabel('visitor')\n",
    "plt.ylabel('number of orders')\n",
    "plt.title('Scatter plot of the number of orders per visitor, calculating percentiles')\n",
    "\n",
    "# calculate percentiles for number of orders\n",
    "print(np.percentile(data_orders['n_orders'], [90, 95, 99]))"
   ]
  },
  {
   "cell_type": "markdown",
   "metadata": {},
   "source": [
    "Indeed, there are a significant number of outliers. Up to 95% of visitors place no more than 1 order, and only 1% place 2 orders. Based on the scatter plot, it can be inferred that users with 3 orders may be anomalies. There may be even more anomalies in the order values.\n",
    "\n",
    "We will take this into account in the further data cleaning process."
   ]
  },
  {
   "cell_type": "markdown",
   "metadata": {},
   "source": [
    "#### Scatter plot of order revenue by users and percentile calculation."
   ]
  },
  {
   "cell_type": "code",
   "execution_count": 30,
   "metadata": {},
   "outputs": [
    {
     "name": "stdout",
     "output_type": "stream",
     "text": [
      "[17990. 26785. 53904.]\n"
     ]
    },
    {
     "data": {
      "image/png": "[encoded data removed]",
      "text/plain": [
       "<Figure size 600x400 with 1 Axes>"
      ]
     },
     "metadata": {},
     "output_type": "display_data"
    }
   ],
   "source": [
    "# gather data on order values by users \n",
    "data_revenue = orders.groupby('transaction_id', as_index=False)\\\n",
    "                    .agg({'revenue':'sum'})\n",
    "data_revenue.columns = ['order_id', 'revenue']\n",
    "\n",
    "# make a plot\n",
    "plt.figure(figsize=(6, 4))\n",
    "x_values = pd.Series(range(0, len(data_revenue)))\n",
    "plt.scatter(x_values, data_revenue['revenue']) \n",
    "plt.xlabel('Visitors')\n",
    "plt.ylabel('Order revenue by user')\n",
    "plt.title('Scatter plot of order revenue by users and percentile calculation')\n",
    "\n",
    "# calculate percentiles\n",
    "print(np.percentile(data_revenue['revenue'], [90, 95, 99]))"
   ]
  },
  {
   "cell_type": "markdown",
   "metadata": {},
   "source": [
    "By the chart of order sums, outliers are also noticeable. 95% of users place orders with a total value of no more than 26,785. And 1% order up to 53,904. This is a significant difference in costs.\n",
    "\n",
    "However, due to a single high-cost order, almost the entire chart is compressed into one line. Let's examine the distribution of sums, limiting the data to a cost of up to 53,000."
   ]
  },
  {
   "cell_type": "code",
   "execution_count": 31,
   "metadata": {},
   "outputs": [
    {
     "data": {
      "text/plain": [
       "Text(0.5, 1.0, 'The scatter plot of order revenue per visitor in both groups of test')"
      ]
     },
     "execution_count": 31,
     "metadata": {},
     "output_type": "execute_result"
    },
    {
     "data": {
      "image/png": "[encoded data removed]",
      "text/plain": [
       "<Figure size 600x400 with 1 Axes>"
      ]
     },
     "metadata": {},
     "output_type": "display_data"
    }
   ],
   "source": [
    "# gather data on revenue by order\n",
    "data_revenue = orders.groupby('transaction_id', as_index=False)\\\n",
    "                    .agg({'revenue':'sum'})\n",
    "data_revenue.columns = ['order_id', 'revenue']\n",
    "\n",
    "# построим график\n",
    "plt.figure(figsize=(6, 4))\n",
    "x_values = pd.Series(range(0, len(data_revenue.loc[data_revenue['revenue']<=53000])))\n",
    "plt.scatter(x_values, data_revenue.loc[data_revenue['revenue']<=53000,'revenue'])\n",
    "plt.xlabel('Visitors')\n",
    "plt.ylabel('Order revenue')\n",
    "plt.title('The scatter plot of order revenue per visitor in both groups of test')"
   ]
  },
  {
   "cell_type": "markdown",
   "metadata": {},
   "source": [
    "After examining the charts, it's clear that the order with a cost above 53,000 had a significant impact. Removing it, we can see that there are still expensive orders, but they are rare and unlikely to be anomalies. Therefore, limiting the data by this amount should be sufficient for valid results."
   ]
  },
  {
   "cell_type": "markdown",
   "metadata": {},
   "source": [
    "<font color='BlueViolet'>\n",
    "<b>Pre-conclusion </b></font>\n",
    "\n",
    "After calculating the percentiles and examining possible anomalies through scatter plots, it became clear that:\n",
    "- There are many outliers in the number of orders per user.\n",
    "- There is one exceptional anomaly in the order sum.\n",
    "\n",
    "Up to 95% of visitors make no more than 1 order, and less than 1% make more than 2.\n",
    "Up to 90% of visitors order items totaling no more than 17,990, and up to 95% order items totaling 26,785. Only 1% of users placed orders totaling more than 53,904.\n",
    "\n",
    "It was investigated how distinct other anomalies are when removing orders with a sum above 53,000. Notably, there are still expensive orders, but they are rare and unlikely to be anomalies. Therefore, cleaning the data by removing around 1% due to the sum and less than 1% due to the number of orders should suffice."
   ]
  },
  {
   "cell_type": "markdown",
   "metadata": {},
   "source": [
    "### Statistical significance testing"
   ]
  },
  {
   "cell_type": "markdown",
   "metadata": {},
   "source": [
    "#### Statistical Significance of Metrics for \"Raw\" Data"
   ]
  },
  {
   "cell_type": "markdown",
   "metadata": {},
   "source": [
    "Having identified anomalies in the data earlier, let's check the statistical significance of differences in the average number of orders per user and the average check between the groups for the \"raw\" data."
   ]
  },
  {
   "cell_type": "markdown",
   "metadata": {},
   "source": [
    "**Statistical Significance of Differences in the Average Number of Orders per User** \\\n",
    "We will formulate hypotheses.\\\n",
    "Null hypothesis: There are no statistically significant differences in the average number of orders between the groups.\\\n",
    "Alternative hypothesis: There are statistically significant differences in the average number of orders between the groups."
   ]
  },
  {
   "cell_type": "markdown",
   "metadata": {},
   "source": [
    "We will introduce variables sampleA and sampleB, in which users from different groups will correspond to the number of orders. Those who did not place any orders will have zeros.\n",
    "\n",
    "To do this, we will prepare the necessary data and structure them into tables."
   ]
  },
  {
   "cell_type": "code",
   "execution_count": 32,
   "metadata": {},
   "outputs": [],
   "source": [
    "# group the data on the number of orders and visitors by days (without accumulation).\n",
    "orders_p_day_A = orders[orders['group']=='A'].groupby(['date'])\\\n",
    "                                             .agg({'transaction_id':'nunique'})\\\n",
    "                                             .merge(visitors[visitors['group']=='A'][['date', 'visitors']], \n",
    "                                                    left_on='date', right_on='date', how='left')\n",
    "\n",
    "orders_p_day_B = orders[orders['group']=='B'].groupby(['date'])\\\n",
    "                                             .agg({'transaction_id':'nunique'})\\\n",
    "                                             .merge(visitors[visitors['group']=='B'][['date', 'visitors']], \n",
    "                                                    left_on='date', right_on='date', how='left')\n",
    "\n",
    "# rename columns\n",
    "orders_p_day_A.columns = ['date','ordersDayA','visitorsDayA']\n",
    "orders_p_day_B.columns = ['date','ordersDayB','visitorsDayB']\n",
    "\n",
    "\n",
    "# calculate number of orders per visitor for each group\n",
    "orders_byvisitorsA = orders[orders['group'] == 'A']\\\n",
    "                           .groupby('visitor_id', as_index=False)\\\n",
    "                           .agg({'transaction_id': 'nunique'})\n",
    "orders_byvisitorsB = orders[orders['group'] == 'B']\\\n",
    "                           .groupby('visitor_id', as_index=False)\\\n",
    "                           .agg({'transaction_id': 'nunique'})\n",
    "\n",
    "# rename columns\n",
    "orders_byvisitorsA.columns = ['visitor_id', 'orders']\n",
    "orders_byvisitorsB.columns = ['visitor_id', 'orders']"
   ]
  },
  {
   "cell_type": "markdown",
   "metadata": {},
   "source": [
    "The number of users with 0 orders is equal to the difference between the total number of visitors and the number of order records. Let's perform these calculations below and introduce the variables sampleA and sampleB."
   ]
  },
  {
   "cell_type": "code",
   "execution_count": 33,
   "metadata": {},
   "outputs": [],
   "source": [
    "# combine the tables, taking into account visitors who didn't make any orders.\n",
    "sampleA = pd.concat([orders_byvisitorsA['orders'],\n",
    "                     pd.Series(0, index=np.arange(orders_p_day_A['visitorsDayA'].sum() - len(orders_byvisitorsA['orders'])), \n",
    "                               name='orders')\n",
    "                    ],axis=0\n",
    "                   )\n",
    "sampleB = pd.concat([orders_byvisitorsA['orders'],\n",
    "                     pd.Series(0, index=np.arange(orders_p_day_B['visitorsDayB'].sum() - len(orders_byvisitorsB['orders'])), \n",
    "                               name='orders')\n",
    "                    ],axis=0\n",
    "                   )"
   ]
  },
  {
   "cell_type": "markdown",
   "metadata": {},
   "source": [
    "We will perform the Mann-Whitney U test on the samples and examine the relative difference between the groups."
   ]
  },
  {
   "cell_type": "code",
   "execution_count": 34,
   "metadata": {},
   "outputs": [
    {
     "name": "stdout",
     "output_type": "stream",
     "text": [
      "p-value: 0.938\n",
      "The relative difference in the average number of orders in group B compared to group A.: 0.160\n"
     ]
    }
   ],
   "source": [
    "# show the results\n",
    "print('p-value:',\"{0:.3f}\".format(st.mannwhitneyu(sampleA, sampleB)[1]))\n",
    "print('The relative difference in the average number of orders in group B compared to group A.:',\"{0:.3f}\".format((orders_p_day_B['ordersDayB'].sum()/orders_p_day_B['visitorsDayB'].sum())/(orders_p_day_A['ordersDayA'].sum()/orders_p_day_A['visitorsDayA'].sum())-1))"
   ]
  },
  {
   "cell_type": "markdown",
   "metadata": {},
   "source": [
    "Since the p-value is greater than 0.05, we do NOT reject the null hypothesis, which states that there are no statistically significant differences in the average number of orders between the groups.\\\n",
    "However, there is still a difference in the average number of orders, with group B outperforming group A by 16%."
   ]
  },
  {
   "cell_type": "markdown",
   "metadata": {},
   "source": [
    "Let's formulate the hypotheses:\n",
    "\n",
    "- **Null Hypothesis (H0)**: There are no statistically significant differences in the average order value between the groups.\n",
    "- **Alternative Hypothesis (H1)**: There are statistically significant differences in the average order value between the groups."
   ]
  },
  {
   "cell_type": "code",
   "execution_count": 35,
   "metadata": {},
   "outputs": [
    {
     "name": "stdout",
     "output_type": "stream",
     "text": [
      "p-value: 0.829\n",
      "The relative differences in the average order value between the groups: 0.287\n"
     ]
    }
   ],
   "source": [
    "# calculate average bill by groups\n",
    "revenueA = orders[orders['group']=='A']['revenue']\n",
    "revenueB = orders[orders['group']=='B']['revenue']\n",
    "\n",
    "# results\n",
    "print('p-value:',\"{0:.3f}\".format(st.mannwhitneyu(revenueA, revenueB)[1]))\n",
    "print('The relative differences in the average order value between the groups:',\"{0:.3f}\".format(revenueB.mean()/revenueA.mean()-1))"
   ]
  },
  {
   "cell_type": "markdown",
   "metadata": {},
   "source": [
    "Since the p-value is more than 0.05, we do not reject the null hypothesis, which means that there are no statistically significant differences in the average order value between the groups. However, it's important to note that the average order value in group B is 28.7% higher than in group A."
   ]
  },
  {
   "cell_type": "markdown",
   "metadata": {},
   "source": [
    "<font color='BlueViolet'>\n",
    "<b>Pre-conclusion</b></font>\n",
    "\n",
    "There are no statistically significant differences between the groups, neither in terms of the average number of orders nor the average check. However, the relative difference between group B and group A is as follows:\n",
    "- In the average number of orders: 16% better in group B.\n",
    "- In the average check: 28% better in group B."
   ]
  },
  {
   "cell_type": "markdown",
   "metadata": {},
   "source": [
    "#### Statistical significance of metrics using \"cleaned\" data"
   ]
  },
  {
   "cell_type": "markdown",
   "metadata": {},
   "source": [
    "Now we will conduct the same analysis of statistical significance, but this time we will take into account the \"outliers\" found in section 2.2 by cleaning the data from them.\n",
    "\n",
    "The 99th percentile of the number of orders per user is 2. The 95th and 99th percentiles of the average check are 26,785 and 53,904, respectively.\n",
    "\n",
    "We will consider users with more than 2 orders or orders with a total value of 42,353 rubles (98th percentile) and above as anomalous. This way, we will remove less than 1% of users with the highest number of orders and around 1% of users with expensive orders."
   ]
  },
  {
   "cell_type": "code",
   "execution_count": 36,
   "metadata": {},
   "outputs": [
    {
     "name": "stdout",
     "output_type": "stream",
     "text": [
      "Count of anomal visitors: 19\n"
     ]
    }
   ],
   "source": [
    "# make boundaries for data\n",
    "bound_order = np.percentile(data_orders['n_orders'], [99])[0]\n",
    "bound_rev = np.percentile(data_revenue['revenue'], [99])[0]\n",
    "# make a data slice and obtain the IDs of anomalous users.\n",
    "anomal_visitors = pd.concat([orders_byvisitorsA.loc[orders_byvisitorsA['orders']>bound_order,'visitor_id'],\n",
    "                         orders_byvisitorsB.loc[orders_byvisitorsB['orders']>bound_order,'visitor_id'],\n",
    "                         orders.loc[orders['revenue']>=bound_rev,'visitor_id']],\n",
    "                        axis=0).reset_index(drop=True)\n",
    "anomal_visitors = anomal_visitors.drop_duplicates().reset_index(drop=True)\n",
    "\n",
    "# show count of visitors\n",
    "print('Count of anomal visitors:',anomal_visitors.shape[0])"
   ]
  },
  {
   "cell_type": "markdown",
   "metadata": {},
   "source": [
    "Now let's gather the same dataset as in the previous section but already filtered to analyze statistical significance. We will assess how much these 19 users have influenced the results."
   ]
  },
  {
   "cell_type": "code",
   "execution_count": 37,
   "metadata": {},
   "outputs": [],
   "source": [
    "# aggregate filtered data of order number and bumber of visitors per day(without accumulation).\n",
    "f_orders_p_day_A = orders[(orders['group']=='A') &\\\n",
    "                        (np.logical_not(orders['visitor_id'].isin(anomal_visitors)))\n",
    "                       ].groupby(['date'])\\\n",
    "                        .agg({'transaction_id':'nunique'})\\\n",
    "                        .merge(visitors[visitors['group']=='A'][['date', 'visitors']], \n",
    "                               left_on='date', right_on='date', how='left')\n",
    "\n",
    "f_orders_p_day_B =  orders[(orders['group']=='B') &\\\n",
    "                        (np.logical_not(orders['visitor_id'].isin(anomal_visitors)))\n",
    "                       ].groupby(['date'])\\\n",
    "                        .agg({'transaction_id':'nunique'})\\\n",
    "                        .merge(visitors[visitors['group']=='B'][['date', 'visitors']], \n",
    "                               left_on='date', right_on='date', how='left')\n",
    "\n",
    "# rename columns\n",
    "f_orders_p_day_A.columns = ['date','ordersDayA','visitorsDayA']\n",
    "f_orders_p_day_B.columns = ['date','ordersDayB','visitorsDayB']\n",
    "\n",
    "# calculate number of orders per visitor by groups\n",
    "f_orders_byvisitorsA = orders[(orders['group']=='A') &\\\n",
    "                              (np.logical_not(orders['visitor_id'].isin(anomal_visitors)))\n",
    "                             ]\\\n",
    "                             .groupby('visitor_id', as_index=False)\\\n",
    "                             .agg({'transaction_id': 'nunique'})\n",
    "f_orders_byvisitorsB = orders[(orders['group']=='A') &\\\n",
    "                              (np.logical_not(orders['visitor_id'].isin(anomal_visitors)))\n",
    "                             ]\\\n",
    "                             .groupby('visitor_id', as_index=False)\\\n",
    "                             .agg({'transaction_id': 'nunique'})\n",
    "\n",
    "# rename columns\n",
    "f_orders_byvisitorsA.columns = ['visitor_id', 'orders']\n",
    "f_orders_byvisitorsB.columns = ['visitor_id', 'orders']"
   ]
  },
  {
   "cell_type": "code",
   "execution_count": 38,
   "metadata": {},
   "outputs": [],
   "source": [
    "# combine the tables, taking into account the visitors who did not place any orders.\n",
    "f_sampleA = pd.concat([f_orders_byvisitorsA['orders'],\n",
    "                     pd.Series(0, index=np.arange(f_orders_p_day_A['visitorsDayA'].sum() - len(f_orders_byvisitorsA['orders'])), \n",
    "                               name='orders')\n",
    "                    ],axis=0\n",
    "                   )\n",
    "f_sampleB = pd.concat([f_orders_byvisitorsA['orders'],\n",
    "                     pd.Series(0, index=np.arange(f_orders_p_day_B['visitorsDayB'].sum() - len(f_orders_byvisitorsB['orders'])), \n",
    "                               name='orders')\n",
    "                    ],axis=0\n",
    "                   )"
   ]
  },
  {
   "cell_type": "markdown",
   "metadata": {},
   "source": [
    "We will perform the Mann-Whitney U test on the samples and examine the relative difference between the groups."
   ]
  },
  {
   "cell_type": "code",
   "execution_count": 39,
   "metadata": {},
   "outputs": [
    {
     "name": "stdout",
     "output_type": "stream",
     "text": [
      "the statistical significance of differences in the average check\n",
      "p-value: 0.887\n",
      "The relative difference in the average number of orders from Group B compared to Group A: 0.193\n"
     ]
    }
   ],
   "source": [
    "# results\n",
    "print('the statistical significance of differences in the average check')\n",
    "print('p-value:',\"{0:.3f}\".format(st.mannwhitneyu(f_sampleA, f_sampleB)[1]))\n",
    "print('The relative difference in the average number of orders from Group B compared to Group A:',\"{0:.3f}\".format((f_orders_p_day_B['ordersDayB'].sum()/f_orders_p_day_B['visitorsDayB'].sum())/(f_orders_p_day_A['ordersDayA'].sum()/f_orders_p_day_A['visitorsDayA'].sum())-1))"
   ]
  },
  {
   "cell_type": "markdown",
   "metadata": {},
   "source": [
    "The p-value decreased slightly but is still greater than 0.05. Therefore, we can conclude that there are no statistically significant differences in the average number of orders between the groups based on the cleaned data (we didn't reject the null hypothesis). However, the relative difference increased by 3%. This means that anomalous users were underestimating the gap between Group B and Group A in terms of the average number of orders.\n",
    "\n",
    "Next, let's check the average check for both groups."
   ]
  },
  {
   "cell_type": "code",
   "execution_count": 40,
   "metadata": {},
   "outputs": [
    {
     "name": "stdout",
     "output_type": "stream",
     "text": [
      "Statistical significance of differences in the average check\n",
      "p-value: 0.842\n",
      "The relative difference in the average check from Group B compared to Group A: -0.014\n"
     ]
    }
   ],
   "source": [
    "#  calculate the average check for each group\n",
    "f_revenueA =  orders[(orders['group']=='A') &\\\n",
    "                   (np.logical_not(orders['visitor_id'].isin(anomal_visitors)))\n",
    "                  ]['revenue']\n",
    "\n",
    "f_revenueB = orders[(orders['group']=='B') &\\\n",
    "                   (np.logical_not(orders['visitor_id'].isin(anomal_visitors)))\n",
    "                  ]['revenue']\n",
    "\n",
    "# results\n",
    "print('Statistical significance of differences in the average check')\n",
    "print('p-value:',\"{0:.3f}\".format(st.mannwhitneyu(f_revenueA, f_revenueB)[1]))\n",
    "print('The relative difference in the average check from Group B compared to Group A:',\"{0:.3f}\".format(f_revenueB.mean()/f_revenueA.mean()-1))"
   ]
  },
  {
   "cell_type": "markdown",
   "metadata": {},
   "source": [
    "As you can see, the p-value has increased only slightly; however, the relative difference in the average check has changed dramatically. Previously, Group B significantly surpassed Group A by 28%, but now these groups are almost equal (the average check of Group B is only 1% lower than that of Group A)."
   ]
  },
  {
   "cell_type": "markdown",
   "metadata": {},
   "source": [
    "<font color='BlueViolet'>\n",
    "<b>Conclusion based on clean data</b></font>\n",
    "\n",
    "There are no statistically significant differences between the groups in terms of both the average number of orders and the average check. However, the relative difference between Group B and Group A is as follows:\n",
    "\n",
    "In the average number of orders, Group B is better by 19%;\n",
    "In the average check, Group A is better by 1%, but the difference is small.\n",
    "Anomalous values underestimated the lead of Group B over Group A in the average number of orders and, moreover, led to a completely incorrect result regarding the average check. Outliers skewed the data, and that's why the initial verdict showed a significant lead of Group B in terms of the average check, although the real situation is different."
   ]
  },
  {
   "cell_type": "markdown",
   "metadata": {},
   "source": [
    "## Conclusions and decision-making"
   ]
  },
  {
   "cell_type": "markdown",
   "metadata": {},
   "source": [
    "As initial data, three CSV files containing information about hypotheses, orders, and visitors of the online store were used.\n",
    "\n",
    "During the initial data preprocessing, no critical issues were found, and all data was correctly recorded. However, 5.6% of users ended up in both test groups. These users were excluded from the data for correct analysis. Column names were also renamed for convenience, and date column formats were changed.\n",
    "\n",
    "The test lasted for a month, from 2019-08-01 to 2019-08-31, and users were divided into two groups: A and B. In total, 973 users participated in the test.\n",
    "\n",
    "**Hypothesis prioritization**\n",
    "Hypothesis prioritization was assessed using the ICE and RICE frameworks. In both cases, the top 5 hypotheses remained the same, but in RICE, hypotheses 7, 2, 6 moved ahead due to a larger user reach.\n",
    "\n",
    "Thus, these hypotheses were recognized as a priority, followed by hypotheses 8 and 0.\n",
    "\n",
    "**A/B Test Results Analysis**\n",
    "Two user groups, A and B, were examined based on the provided files with orders and visitors. Anomalies were identified in this data. Further analysis for comparison was conducted on \"raw\" (with anomalies) and \"clean\" data (without anomalies).\n",
    "\n",
    "Main user metrics:\n",
    "Up to 95% of visitors make no more than 1 order, and less than 1% make more than 2.\n",
    "Up to 90% of visitors place orders totaling no more than 17,990, and 95% - 26,785.\n",
    "\n",
    "**Preliminary Results**\n",
    "Based on the raw data, graphs were constructed, showing that the cumulative revenue of both groups A and B gradually increased during the test, which is a positive indicator. The cumulative average check is very unstable but slightly increasing.\n",
    "In terms of revenue and average check, Group B performed better, but in Group A, there were consistently twice as many orders per visitor compared to Group B.\n",
    "\n",
    "It is important to note that these conclusions were obtained from uncleaned data, and strange fluctuations were noticeable on the graphs. Therefore, for data cleansing, users who made more than 2 orders or made a purchase totaling more than 53,000 rubles were excluded.\n",
    "Thus, a balance was maintained, and no more than 1-5% of the data was removed.\n",
    "\n",
    "**Statistical Analysis**\n",
    "- There is no statistically significant difference in the average number of orders between the groups, both for \"raw\" and cleaned data.\n",
    "- There is no statistically significant difference in the average check between the groups, both for \"raw\" and cleaned data.\n",
    "- The relative difference in the average number of orders between the groups indicates that the results of Group B are better than Group A by 19%.\n",
    "- The relative difference in the average check between the groups indicates that the results of Group B are worse than Group A by 1%.\n",
    "\n",
    "Anomalous values underestimated the lead of Group B over Group A in the average number of orders and, moreover, led to a completely incorrect result regarding the average check. Outliers skewed the data, and that's why the initial verdict showed a significant lead of Group B in terms of the average check, although the real situation is different.\n",
    "\n",
    "Based on the discovered facts, the test should be stopped and considered unsuccessful. Segment B influenced an increase in the number of orders but, at the same time, decreased the average check. There is no significant difference between the groups.\n",
    "\n",
    "It may be worthwhile to retain the change proposed by Group B, but in this case, work should be done, and a new hypothesis should be developed to increase the average check. In this way, with an increased number of orders, the total revenue will also increase. Otherwise, it makes no sense."
   ]
  },
  {
   "cell_type": "code",
   "execution_count": null,
   "metadata": {},
   "outputs": [],
   "source": []
  }
 ],
 "metadata": {
  "ExecuteTimeLog": [
   {
    "duration": 705,
    "start_time": "2023-05-07T16:26:51.421Z"
   },
   {
    "duration": 62,
    "start_time": "2023-05-07T16:28:32.706Z"
   },
   {
    "duration": 31,
    "start_time": "2023-05-07T16:28:41.102Z"
   },
   {
    "duration": 11,
    "start_time": "2023-05-07T16:28:48.793Z"
   },
   {
    "duration": 32,
    "start_time": "2023-05-07T16:29:37.218Z"
   },
   {
    "duration": 17,
    "start_time": "2023-05-07T16:37:33.402Z"
   },
   {
    "duration": 15,
    "start_time": "2023-05-07T16:37:43.622Z"
   },
   {
    "duration": 81,
    "start_time": "2023-05-07T16:38:10.446Z"
   },
   {
    "duration": 11,
    "start_time": "2023-05-07T16:38:34.586Z"
   },
   {
    "duration": 12,
    "start_time": "2023-05-07T16:38:38.973Z"
   },
   {
    "duration": 10,
    "start_time": "2023-05-07T16:40:02.182Z"
   },
   {
    "duration": 13,
    "start_time": "2023-05-07T16:40:09.439Z"
   },
   {
    "duration": 14,
    "start_time": "2023-05-07T16:40:10.006Z"
   },
   {
    "duration": 11,
    "start_time": "2023-05-07T16:41:36.579Z"
   },
   {
    "duration": 28,
    "start_time": "2023-05-07T16:44:11.746Z"
   },
   {
    "duration": 2,
    "start_time": "2023-05-07T16:44:19.458Z"
   },
   {
    "duration": 28,
    "start_time": "2023-05-07T16:44:19.930Z"
   },
   {
    "duration": 14,
    "start_time": "2023-05-07T16:44:20.386Z"
   },
   {
    "duration": 10,
    "start_time": "2023-05-07T16:44:21.855Z"
   },
   {
    "duration": 12,
    "start_time": "2023-05-07T16:44:22.310Z"
   },
   {
    "duration": 162,
    "start_time": "2023-05-07T16:57:55.314Z"
   },
   {
    "duration": 9,
    "start_time": "2023-05-07T16:58:08.670Z"
   },
   {
    "duration": 14,
    "start_time": "2023-05-07T16:58:17.542Z"
   },
   {
    "duration": 7,
    "start_time": "2023-05-07T16:59:03.158Z"
   },
   {
    "duration": 12,
    "start_time": "2023-05-07T16:59:10.950Z"
   },
   {
    "duration": 7,
    "start_time": "2023-05-07T17:00:41.974Z"
   },
   {
    "duration": 9,
    "start_time": "2023-05-07T17:01:01.638Z"
   },
   {
    "duration": 11,
    "start_time": "2023-05-07T17:01:09.543Z"
   },
   {
    "duration": 7,
    "start_time": "2023-05-07T17:03:01.542Z"
   },
   {
    "duration": 7,
    "start_time": "2023-05-07T17:03:13.699Z"
   },
   {
    "duration": 8,
    "start_time": "2023-05-07T17:03:31.742Z"
   },
   {
    "duration": 7,
    "start_time": "2023-05-07T17:03:43.910Z"
   },
   {
    "duration": 7,
    "start_time": "2023-05-07T17:07:05.163Z"
   },
   {
    "duration": 57,
    "start_time": "2023-05-07T17:09:30.356Z"
   },
   {
    "duration": 8,
    "start_time": "2023-05-07T17:09:49.976Z"
   },
   {
    "duration": 11,
    "start_time": "2023-05-07T17:09:58.718Z"
   },
   {
    "duration": 8,
    "start_time": "2023-05-07T17:21:38.687Z"
   },
   {
    "duration": 5,
    "start_time": "2023-05-07T17:23:48.986Z"
   },
   {
    "duration": 5,
    "start_time": "2023-05-07T17:24:20.456Z"
   },
   {
    "duration": 10,
    "start_time": "2023-05-07T17:24:26.355Z"
   },
   {
    "duration": 10,
    "start_time": "2023-05-07T17:24:34.332Z"
   },
   {
    "duration": 550,
    "start_time": "2023-05-07T17:33:09.116Z"
   },
   {
    "duration": 19,
    "start_time": "2023-05-07T17:37:37.928Z"
   },
   {
    "duration": 148,
    "start_time": "2023-05-07T17:38:19.072Z"
   },
   {
    "duration": 157,
    "start_time": "2023-05-07T17:39:35.900Z"
   },
   {
    "duration": 154,
    "start_time": "2023-05-07T17:40:01.596Z"
   },
   {
    "duration": 157,
    "start_time": "2023-05-07T17:40:16.724Z"
   },
   {
    "duration": 153,
    "start_time": "2023-05-07T17:40:25.744Z"
   },
   {
    "duration": 15,
    "start_time": "2023-05-07T17:41:49.688Z"
   },
   {
    "duration": 7,
    "start_time": "2023-05-07T17:44:42.452Z"
   },
   {
    "duration": 182,
    "start_time": "2023-05-07T17:46:51.356Z"
   },
   {
    "duration": 24,
    "start_time": "2023-05-07T17:51:29.676Z"
   },
   {
    "duration": 125,
    "start_time": "2023-05-07T17:51:57.099Z"
   },
   {
    "duration": 19,
    "start_time": "2023-05-07T17:58:09.827Z"
   },
   {
    "duration": 11,
    "start_time": "2023-05-07T17:58:19.390Z"
   },
   {
    "duration": 42,
    "start_time": "2023-05-07T18:01:55.119Z"
   },
   {
    "duration": 6,
    "start_time": "2023-05-07T18:19:24.166Z"
   },
   {
    "duration": 4,
    "start_time": "2023-05-07T18:19:30.230Z"
   },
   {
    "duration": 817,
    "start_time": "2023-05-07T18:33:40.342Z"
   },
   {
    "duration": 206,
    "start_time": "2023-05-07T18:48:01.606Z"
   },
   {
    "duration": 211,
    "start_time": "2023-05-07T18:48:20.986Z"
   },
   {
    "duration": 174,
    "start_time": "2023-05-07T18:48:27.902Z"
   },
   {
    "duration": 154,
    "start_time": "2023-05-07T18:48:32.922Z"
   },
   {
    "duration": 167,
    "start_time": "2023-05-07T18:48:51.342Z"
   },
   {
    "duration": 161,
    "start_time": "2023-05-07T18:48:58.374Z"
   },
   {
    "duration": 179,
    "start_time": "2023-05-07T18:49:04.025Z"
   },
   {
    "duration": 171,
    "start_time": "2023-05-07T18:49:07.119Z"
   },
   {
    "duration": 238,
    "start_time": "2023-05-07T18:50:12.410Z"
   },
   {
    "duration": 11,
    "start_time": "2023-05-07T18:50:30.906Z"
   },
   {
    "duration": 4,
    "start_time": "2023-05-07T18:50:46.038Z"
   },
   {
    "duration": 181,
    "start_time": "2023-05-07T18:53:35.882Z"
   },
   {
    "duration": 198,
    "start_time": "2023-05-07T18:58:54.446Z"
   },
   {
    "duration": 163,
    "start_time": "2023-05-07T19:12:56.035Z"
   },
   {
    "duration": 208,
    "start_time": "2023-05-07T19:13:15.791Z"
   },
   {
    "duration": 721,
    "start_time": "2023-05-07T19:23:12.079Z"
   },
   {
    "duration": 822,
    "start_time": "2023-05-07T19:23:18.486Z"
   },
   {
    "duration": 10,
    "start_time": "2023-05-07T19:23:45.042Z"
   },
   {
    "duration": 13,
    "start_time": "2023-05-07T19:24:33.087Z"
   },
   {
    "duration": 310,
    "start_time": "2023-05-07T19:26:08.443Z"
   },
   {
    "duration": 303,
    "start_time": "2023-05-07T19:27:52.794Z"
   },
   {
    "duration": 344,
    "start_time": "2023-05-07T19:28:05.594Z"
   },
   {
    "duration": 219,
    "start_time": "2023-05-07T19:36:39.587Z"
   },
   {
    "duration": 764,
    "start_time": "2023-05-07T19:46:14.599Z"
   },
   {
    "duration": 7,
    "start_time": "2023-05-07T19:46:42.379Z"
   },
   {
    "duration": 13,
    "start_time": "2023-05-07T19:46:49.974Z"
   },
   {
    "duration": 686,
    "start_time": "2023-05-07T19:47:21.979Z"
   },
   {
    "duration": 767,
    "start_time": "2023-05-07T19:48:04.003Z"
   },
   {
    "duration": 711,
    "start_time": "2023-05-07T19:48:34.863Z"
   },
   {
    "duration": 142,
    "start_time": "2023-05-07T19:48:45.479Z"
   },
   {
    "duration": 698,
    "start_time": "2023-05-07T19:49:07.063Z"
   },
   {
    "duration": 776,
    "start_time": "2023-05-07T19:49:27.811Z"
   },
   {
    "duration": 14,
    "start_time": "2023-05-07T19:51:15.807Z"
   },
   {
    "duration": 12,
    "start_time": "2023-05-07T19:52:55.963Z"
   },
   {
    "duration": 18,
    "start_time": "2023-05-07T19:53:05.659Z"
   },
   {
    "duration": 18,
    "start_time": "2023-05-07T19:53:21.511Z"
   },
   {
    "duration": 21,
    "start_time": "2023-05-07T19:54:28.483Z"
   },
   {
    "duration": 22,
    "start_time": "2023-05-07T19:54:33.515Z"
   },
   {
    "duration": 17,
    "start_time": "2023-05-07T19:55:45.255Z"
   },
   {
    "duration": 19,
    "start_time": "2023-05-07T19:56:18.391Z"
   },
   {
    "duration": 6,
    "start_time": "2023-05-07T20:12:16.794Z"
   },
   {
    "duration": 11,
    "start_time": "2023-05-07T20:13:02.678Z"
   },
   {
    "duration": 5,
    "start_time": "2023-05-07T20:13:35.955Z"
   },
   {
    "duration": 15,
    "start_time": "2023-05-07T20:14:01.411Z"
   },
   {
    "duration": 7,
    "start_time": "2023-05-07T20:14:43.311Z"
   },
   {
    "duration": 5,
    "start_time": "2023-05-07T20:16:05.471Z"
   },
   {
    "duration": 5,
    "start_time": "2023-05-07T20:16:22.223Z"
   },
   {
    "duration": 6,
    "start_time": "2023-05-07T20:19:26.615Z"
   },
   {
    "duration": 5,
    "start_time": "2023-05-07T20:19:39.139Z"
   },
   {
    "duration": 5,
    "start_time": "2023-05-07T20:21:08.979Z"
   },
   {
    "duration": 10,
    "start_time": "2023-05-07T20:23:21.575Z"
   },
   {
    "duration": 314,
    "start_time": "2023-05-07T20:25:00.091Z"
   },
   {
    "duration": 353,
    "start_time": "2023-05-07T20:26:19.183Z"
   },
   {
    "duration": 378,
    "start_time": "2023-05-07T20:27:28.667Z"
   },
   {
    "duration": 111,
    "start_time": "2023-05-07T20:36:26.155Z"
   },
   {
    "duration": 2,
    "start_time": "2023-05-07T20:38:35.539Z"
   },
   {
    "duration": 7,
    "start_time": "2023-05-07T20:39:00.238Z"
   },
   {
    "duration": 56,
    "start_time": "2023-05-07T20:41:24.515Z"
   },
   {
    "duration": 7,
    "start_time": "2023-05-07T20:41:31.602Z"
   },
   {
    "duration": 10,
    "start_time": "2023-05-07T20:41:43.626Z"
   },
   {
    "duration": 7,
    "start_time": "2023-05-07T20:42:22.758Z"
   },
   {
    "duration": 6,
    "start_time": "2023-05-07T20:43:10.786Z"
   },
   {
    "duration": 101,
    "start_time": "2023-05-07T20:43:54.270Z"
   },
   {
    "duration": 111,
    "start_time": "2023-05-07T20:47:28.349Z"
   },
   {
    "duration": 111,
    "start_time": "2023-05-07T20:47:55.826Z"
   },
   {
    "duration": 130,
    "start_time": "2023-05-07T20:48:42.390Z"
   },
   {
    "duration": 111,
    "start_time": "2023-05-07T20:50:20.271Z"
   },
   {
    "duration": 215,
    "start_time": "2023-05-07T20:51:03.782Z"
   },
   {
    "duration": 127,
    "start_time": "2023-05-07T20:52:34.798Z"
   },
   {
    "duration": 222,
    "start_time": "2023-05-07T20:52:41.795Z"
   },
   {
    "duration": 347,
    "start_time": "2023-05-07T20:56:14.735Z"
   },
   {
    "duration": 132,
    "start_time": "2023-05-07T20:56:49.665Z"
   },
   {
    "duration": 106,
    "start_time": "2023-05-07T20:56:57.034Z"
   },
   {
    "duration": 7,
    "start_time": "2023-05-07T21:02:03.350Z"
   },
   {
    "duration": 170,
    "start_time": "2023-05-07T21:03:02.386Z"
   },
   {
    "duration": 7,
    "start_time": "2023-05-07T21:08:51.794Z"
   },
   {
    "duration": 14,
    "start_time": "2023-05-07T21:08:57.301Z"
   },
   {
    "duration": 8,
    "start_time": "2023-05-07T21:09:04.054Z"
   },
   {
    "duration": 115,
    "start_time": "2023-05-07T21:10:02.181Z"
   },
   {
    "duration": 215,
    "start_time": "2023-05-07T21:12:52.154Z"
   },
   {
    "duration": 121,
    "start_time": "2023-05-07T21:13:11.402Z"
   },
   {
    "duration": 173,
    "start_time": "2023-05-07T21:14:59.558Z"
   },
   {
    "duration": 118,
    "start_time": "2023-05-07T21:15:13.314Z"
   },
   {
    "duration": 173,
    "start_time": "2023-05-07T21:15:57.438Z"
   },
   {
    "duration": 110,
    "start_time": "2023-05-07T21:16:03.889Z"
   },
   {
    "duration": 121,
    "start_time": "2023-05-07T21:16:10.874Z"
   },
   {
    "duration": 6,
    "start_time": "2023-05-07T21:16:38.510Z"
   },
   {
    "duration": 14,
    "start_time": "2023-05-07T21:16:55.146Z"
   },
   {
    "duration": 8,
    "start_time": "2023-05-07T21:16:57.509Z"
   },
   {
    "duration": 784,
    "start_time": "2023-05-07T21:19:13.349Z"
   },
   {
    "duration": 8,
    "start_time": "2023-05-07T21:19:27.318Z"
   },
   {
    "duration": 10,
    "start_time": "2023-05-07T21:19:40.174Z"
   },
   {
    "duration": 9,
    "start_time": "2023-05-07T21:20:03.169Z"
   },
   {
    "duration": 12,
    "start_time": "2023-05-07T21:20:30.202Z"
   },
   {
    "duration": 11,
    "start_time": "2023-05-07T21:20:54.138Z"
   },
   {
    "duration": 185,
    "start_time": "2023-05-07T21:21:43.978Z"
   },
   {
    "duration": 112,
    "start_time": "2023-05-07T21:21:58.989Z"
   },
   {
    "duration": 126,
    "start_time": "2023-05-07T21:22:15.826Z"
   },
   {
    "duration": 138,
    "start_time": "2023-05-07T21:25:41.025Z"
   },
   {
    "duration": 2,
    "start_time": "2023-05-07T21:29:51.042Z"
   },
   {
    "duration": 1359,
    "start_time": "2023-05-08T10:07:40.247Z"
   },
   {
    "duration": 128,
    "start_time": "2023-05-08T10:07:41.609Z"
   },
   {
    "duration": 11,
    "start_time": "2023-05-08T10:07:41.738Z"
   },
   {
    "duration": 25,
    "start_time": "2023-05-08T10:07:41.751Z"
   },
   {
    "duration": 11,
    "start_time": "2023-05-08T10:07:41.778Z"
   },
   {
    "duration": 117,
    "start_time": "2023-05-08T10:07:41.791Z"
   },
   {
    "duration": 8,
    "start_time": "2023-05-08T10:07:41.909Z"
   },
   {
    "duration": 12,
    "start_time": "2023-05-08T10:07:41.918Z"
   },
   {
    "duration": 10,
    "start_time": "2023-05-08T10:07:41.931Z"
   },
   {
    "duration": 10,
    "start_time": "2023-05-08T10:07:41.944Z"
   },
   {
    "duration": 6,
    "start_time": "2023-05-08T10:07:41.955Z"
   },
   {
    "duration": 9,
    "start_time": "2023-05-08T10:07:41.962Z"
   },
   {
    "duration": 13,
    "start_time": "2023-05-08T10:07:41.973Z"
   },
   {
    "duration": 177,
    "start_time": "2023-05-08T10:07:41.988Z"
   },
   {
    "duration": 135,
    "start_time": "2023-05-08T10:07:42.167Z"
   },
   {
    "duration": 12,
    "start_time": "2023-05-08T10:07:42.303Z"
   },
   {
    "duration": 22,
    "start_time": "2023-05-08T10:07:42.317Z"
   },
   {
    "duration": 269,
    "start_time": "2023-05-08T10:07:42.341Z"
   },
   {
    "duration": 214,
    "start_time": "2023-05-08T10:07:42.612Z"
   },
   {
    "duration": 370,
    "start_time": "2023-05-08T10:07:42.828Z"
   },
   {
    "duration": 199,
    "start_time": "2023-05-08T10:07:43.200Z"
   },
   {
    "duration": 5,
    "start_time": "2023-05-08T10:07:43.401Z"
   },
   {
    "duration": 329,
    "start_time": "2023-05-08T10:07:43.408Z"
   },
   {
    "duration": 119,
    "start_time": "2023-05-08T10:07:43.738Z"
   },
   {
    "duration": 146,
    "start_time": "2023-05-08T10:07:43.859Z"
   },
   {
    "duration": 139,
    "start_time": "2023-05-08T10:07:44.007Z"
   },
   {
    "duration": 58,
    "start_time": "2023-05-08T10:13:05.698Z"
   },
   {
    "duration": 12,
    "start_time": "2023-05-08T10:14:12.850Z"
   },
   {
    "duration": 2,
    "start_time": "2023-05-08T10:17:00.626Z"
   },
   {
    "duration": 11,
    "start_time": "2023-05-08T10:17:04.711Z"
   },
   {
    "duration": 7,
    "start_time": "2023-05-08T10:17:40.114Z"
   },
   {
    "duration": 8,
    "start_time": "2023-05-08T10:18:54.658Z"
   },
   {
    "duration": 8,
    "start_time": "2023-05-08T10:19:02.110Z"
   },
   {
    "duration": 9,
    "start_time": "2023-05-08T10:21:07.227Z"
   },
   {
    "duration": 10,
    "start_time": "2023-05-08T10:25:51.758Z"
   },
   {
    "duration": 9,
    "start_time": "2023-05-08T10:26:47.971Z"
   },
   {
    "duration": 12,
    "start_time": "2023-05-08T10:27:02.618Z"
   },
   {
    "duration": 9,
    "start_time": "2023-05-08T10:27:10.874Z"
   },
   {
    "duration": 9,
    "start_time": "2023-05-08T10:27:50.942Z"
   },
   {
    "duration": 2,
    "start_time": "2023-05-08T10:27:58.694Z"
   },
   {
    "duration": 6,
    "start_time": "2023-05-08T10:28:39.450Z"
   },
   {
    "duration": 15,
    "start_time": "2023-05-08T10:32:21.154Z"
   },
   {
    "duration": 10,
    "start_time": "2023-05-08T10:32:48.757Z"
   },
   {
    "duration": 17,
    "start_time": "2023-05-08T10:35:25.353Z"
   },
   {
    "duration": 17,
    "start_time": "2023-05-08T10:35:38.310Z"
   },
   {
    "duration": 24,
    "start_time": "2023-05-08T10:36:10.965Z"
   },
   {
    "duration": 932,
    "start_time": "2023-05-08T10:37:21.069Z"
   },
   {
    "duration": 730,
    "start_time": "2023-05-08T10:37:35.129Z"
   },
   {
    "duration": 717,
    "start_time": "2023-05-08T10:37:41.981Z"
   },
   {
    "duration": 49,
    "start_time": "2023-05-08T10:38:27.065Z"
   },
   {
    "duration": 50,
    "start_time": "2023-05-08T10:38:30.333Z"
   },
   {
    "duration": 46,
    "start_time": "2023-05-08T10:38:45.665Z"
   },
   {
    "duration": 46,
    "start_time": "2023-05-08T10:39:00.105Z"
   },
   {
    "duration": 19,
    "start_time": "2023-05-08T10:39:17.709Z"
   },
   {
    "duration": 13,
    "start_time": "2023-05-08T10:39:37.205Z"
   },
   {
    "duration": 9,
    "start_time": "2023-05-08T10:40:30.569Z"
   },
   {
    "duration": 10,
    "start_time": "2023-05-08T10:40:39.533Z"
   },
   {
    "duration": 9,
    "start_time": "2023-05-08T10:40:41.965Z"
   },
   {
    "duration": 7,
    "start_time": "2023-05-08T10:40:44.453Z"
   },
   {
    "duration": 8,
    "start_time": "2023-05-08T10:41:00.333Z"
   },
   {
    "duration": 8,
    "start_time": "2023-05-08T10:44:20.257Z"
   },
   {
    "duration": 14,
    "start_time": "2023-05-08T10:47:18.592Z"
   },
   {
    "duration": 7,
    "start_time": "2023-05-08T10:48:05.636Z"
   },
   {
    "duration": 24,
    "start_time": "2023-05-08T10:50:24.300Z"
   },
   {
    "duration": 25,
    "start_time": "2023-05-08T10:51:33.496Z"
   },
   {
    "duration": 22,
    "start_time": "2023-05-08T10:51:48.708Z"
   },
   {
    "duration": 9,
    "start_time": "2023-05-08T10:55:21.136Z"
   },
   {
    "duration": 11,
    "start_time": "2023-05-08T10:55:26.278Z"
   },
   {
    "duration": 35,
    "start_time": "2023-05-08T10:58:15.976Z"
   },
   {
    "duration": 58,
    "start_time": "2023-05-08T10:58:23.088Z"
   },
   {
    "duration": 35,
    "start_time": "2023-05-08T10:58:38.056Z"
   },
   {
    "duration": 9,
    "start_time": "2023-05-08T10:59:10.452Z"
   },
   {
    "duration": 218,
    "start_time": "2023-05-08T11:01:32.516Z"
   },
   {
    "duration": 8,
    "start_time": "2023-05-08T11:02:06.472Z"
   },
   {
    "duration": 18,
    "start_time": "2023-05-08T11:03:17.484Z"
   },
   {
    "duration": 13,
    "start_time": "2023-05-08T11:03:47.188Z"
   },
   {
    "duration": 9,
    "start_time": "2023-05-08T11:04:59.496Z"
   },
   {
    "duration": 6,
    "start_time": "2023-05-08T11:05:32.564Z"
   },
   {
    "duration": 51,
    "start_time": "2023-05-08T11:06:17.840Z"
   },
   {
    "duration": 75,
    "start_time": "2023-05-08T11:06:33.668Z"
   },
   {
    "duration": 26,
    "start_time": "2023-05-08T11:06:41.256Z"
   },
   {
    "duration": 27,
    "start_time": "2023-05-08T11:07:59.824Z"
   },
   {
    "duration": 4,
    "start_time": "2023-05-08T11:09:07.116Z"
   },
   {
    "duration": 10,
    "start_time": "2023-05-08T11:10:10.768Z"
   },
   {
    "duration": 32,
    "start_time": "2023-05-08T11:11:13.052Z"
   },
   {
    "duration": 5,
    "start_time": "2023-05-08T11:12:28.704Z"
   },
   {
    "duration": 37,
    "start_time": "2023-05-08T11:13:52.720Z"
   },
   {
    "duration": 37,
    "start_time": "2023-05-08T11:14:28.192Z"
   },
   {
    "duration": 40,
    "start_time": "2023-05-08T11:14:51.093Z"
   },
   {
    "duration": 36,
    "start_time": "2023-05-08T11:16:23.661Z"
   },
   {
    "duration": 51,
    "start_time": "2023-05-08T11:23:33.882Z"
   },
   {
    "duration": 64,
    "start_time": "2023-05-08T11:51:53.026Z"
   },
   {
    "duration": 60,
    "start_time": "2023-05-08T11:54:32.287Z"
   },
   {
    "duration": 81,
    "start_time": "2023-05-08T11:58:24.383Z"
   },
   {
    "duration": 75,
    "start_time": "2023-05-08T11:58:55.836Z"
   },
   {
    "duration": 63,
    "start_time": "2023-05-08T11:59:16.659Z"
   },
   {
    "duration": 110,
    "start_time": "2023-05-08T11:59:23.893Z"
   },
   {
    "duration": 68,
    "start_time": "2023-05-08T11:59:29.239Z"
   },
   {
    "duration": 90,
    "start_time": "2023-05-08T11:59:40.287Z"
   },
   {
    "duration": 9,
    "start_time": "2023-05-08T12:02:37.596Z"
   },
   {
    "duration": 100,
    "start_time": "2023-05-08T12:03:42.119Z"
   },
   {
    "duration": 12,
    "start_time": "2023-05-08T12:04:26.347Z"
   },
   {
    "duration": 16,
    "start_time": "2023-05-08T12:14:27.215Z"
   },
   {
    "duration": 8,
    "start_time": "2023-05-08T12:14:54.227Z"
   },
   {
    "duration": 7,
    "start_time": "2023-05-08T12:14:59.457Z"
   },
   {
    "duration": 12,
    "start_time": "2023-05-08T12:15:03.576Z"
   },
   {
    "duration": 7,
    "start_time": "2023-05-08T12:15:14.483Z"
   },
   {
    "duration": 11,
    "start_time": "2023-05-08T12:15:18.147Z"
   },
   {
    "duration": 83,
    "start_time": "2023-05-08T12:15:28.179Z"
   },
   {
    "duration": 9,
    "start_time": "2023-05-08T12:15:32.095Z"
   },
   {
    "duration": 8,
    "start_time": "2023-05-08T12:20:50.135Z"
   },
   {
    "duration": 10,
    "start_time": "2023-05-08T12:21:07.863Z"
   },
   {
    "duration": 4,
    "start_time": "2023-05-08T12:21:24.687Z"
   },
   {
    "duration": 5,
    "start_time": "2023-05-08T12:21:30.576Z"
   },
   {
    "duration": 4,
    "start_time": "2023-05-08T12:22:50.031Z"
   },
   {
    "duration": 5,
    "start_time": "2023-05-08T12:22:59.615Z"
   },
   {
    "duration": 5,
    "start_time": "2023-05-08T12:23:26.663Z"
   },
   {
    "duration": 4,
    "start_time": "2023-05-08T12:23:32.699Z"
   },
   {
    "duration": 5,
    "start_time": "2023-05-08T12:23:37.371Z"
   },
   {
    "duration": 4,
    "start_time": "2023-05-08T12:25:09.615Z"
   },
   {
    "duration": 5,
    "start_time": "2023-05-08T12:25:44.651Z"
   },
   {
    "duration": 13,
    "start_time": "2023-05-08T12:27:45.928Z"
   },
   {
    "duration": 14,
    "start_time": "2023-05-08T12:34:24.090Z"
   },
   {
    "duration": 16,
    "start_time": "2023-05-08T12:34:35.456Z"
   },
   {
    "duration": 13,
    "start_time": "2023-05-08T12:35:10.292Z"
   },
   {
    "duration": 33,
    "start_time": "2023-05-08T12:35:47.431Z"
   },
   {
    "duration": 18,
    "start_time": "2023-05-08T12:35:58.207Z"
   },
   {
    "duration": 38,
    "start_time": "2023-05-08T12:36:38.732Z"
   },
   {
    "duration": 24,
    "start_time": "2023-05-08T12:36:52.635Z"
   },
   {
    "duration": 27,
    "start_time": "2023-05-08T12:38:11.739Z"
   },
   {
    "duration": 23,
    "start_time": "2023-05-08T12:39:20.424Z"
   },
   {
    "duration": 36,
    "start_time": "2023-05-08T12:39:34.248Z"
   },
   {
    "duration": 20,
    "start_time": "2023-05-08T12:39:38.947Z"
   },
   {
    "duration": 22,
    "start_time": "2023-05-08T12:39:49.235Z"
   },
   {
    "duration": 39,
    "start_time": "2023-05-08T12:40:37.255Z"
   },
   {
    "duration": 8,
    "start_time": "2023-05-08T12:56:29.797Z"
   },
   {
    "duration": 12,
    "start_time": "2023-05-08T12:58:20.632Z"
   },
   {
    "duration": 15,
    "start_time": "2023-05-08T13:00:05.404Z"
   },
   {
    "duration": 16,
    "start_time": "2023-05-08T13:10:02.276Z"
   },
   {
    "duration": 35,
    "start_time": "2023-05-08T13:10:03.288Z"
   },
   {
    "duration": 22,
    "start_time": "2023-05-08T13:11:28.552Z"
   },
   {
    "duration": 65,
    "start_time": "2023-05-08T13:11:58.656Z"
   },
   {
    "duration": 50,
    "start_time": "2023-05-08T13:12:14.528Z"
   },
   {
    "duration": 18,
    "start_time": "2023-05-08T13:12:27.236Z"
   },
   {
    "duration": 5,
    "start_time": "2023-05-08T13:17:58.668Z"
   },
   {
    "duration": 15,
    "start_time": "2023-05-08T14:12:00.334Z"
   },
   {
    "duration": 14,
    "start_time": "2023-05-08T14:12:11.842Z"
   },
   {
    "duration": 7,
    "start_time": "2023-05-08T14:12:43.007Z"
   },
   {
    "duration": 47,
    "start_time": "2023-05-08T14:13:21.695Z"
   },
   {
    "duration": 56,
    "start_time": "2023-05-08T14:13:40.992Z"
   },
   {
    "duration": 47,
    "start_time": "2023-05-08T14:13:54.223Z"
   },
   {
    "duration": 8,
    "start_time": "2023-05-08T14:14:02.151Z"
   },
   {
    "duration": 9,
    "start_time": "2023-05-08T14:14:43.923Z"
   },
   {
    "duration": 7,
    "start_time": "2023-05-08T14:15:02.650Z"
   },
   {
    "duration": 10,
    "start_time": "2023-05-08T14:15:31.563Z"
   },
   {
    "duration": 16,
    "start_time": "2023-05-08T14:22:04.402Z"
   },
   {
    "duration": 46,
    "start_time": "2023-05-08T14:23:19.651Z"
   },
   {
    "duration": 24,
    "start_time": "2023-05-08T14:23:24.036Z"
   },
   {
    "duration": 19,
    "start_time": "2023-05-08T14:24:15.758Z"
   },
   {
    "duration": 33,
    "start_time": "2023-05-08T14:25:17.799Z"
   },
   {
    "duration": 18,
    "start_time": "2023-05-08T14:25:53.005Z"
   },
   {
    "duration": 25,
    "start_time": "2023-05-08T14:26:44.071Z"
   },
   {
    "duration": 18,
    "start_time": "2023-05-08T14:27:12.534Z"
   },
   {
    "duration": 14,
    "start_time": "2023-05-08T14:27:17.618Z"
   },
   {
    "duration": 24,
    "start_time": "2023-05-08T14:27:19.107Z"
   },
   {
    "duration": 20,
    "start_time": "2023-05-08T14:29:03.671Z"
   },
   {
    "duration": 7,
    "start_time": "2023-05-08T14:35:12.512Z"
   },
   {
    "duration": 7,
    "start_time": "2023-05-08T14:35:51.335Z"
   },
   {
    "duration": 22,
    "start_time": "2023-05-08T14:36:07.639Z"
   },
   {
    "duration": 14,
    "start_time": "2023-05-08T14:49:01.795Z"
   },
   {
    "duration": 2,
    "start_time": "2023-05-08T14:50:41.417Z"
   },
   {
    "duration": 16,
    "start_time": "2023-05-08T14:53:23.542Z"
   },
   {
    "duration": 4,
    "start_time": "2023-05-08T14:53:55.574Z"
   },
   {
    "duration": 6,
    "start_time": "2023-05-08T14:54:13.743Z"
   },
   {
    "duration": 401,
    "start_time": "2023-05-08T14:55:40.795Z"
   },
   {
    "duration": 12,
    "start_time": "2023-05-08T14:55:59.102Z"
   },
   {
    "duration": 16,
    "start_time": "2023-05-08T14:56:26.111Z"
   },
   {
    "duration": 5,
    "start_time": "2023-05-08T14:56:36.300Z"
   },
   {
    "duration": 16,
    "start_time": "2023-05-08T14:57:35.855Z"
   },
   {
    "duration": 18,
    "start_time": "2023-05-08T14:58:36.667Z"
   },
   {
    "duration": 6,
    "start_time": "2023-05-08T14:58:50.146Z"
   },
   {
    "duration": 7,
    "start_time": "2023-05-08T14:59:50.667Z"
   },
   {
    "duration": 14,
    "start_time": "2023-05-08T14:59:58.084Z"
   },
   {
    "duration": 9,
    "start_time": "2023-05-08T15:02:36.730Z"
   },
   {
    "duration": 12,
    "start_time": "2023-05-08T15:03:05.826Z"
   },
   {
    "duration": 11,
    "start_time": "2023-05-08T15:03:32.401Z"
   },
   {
    "duration": 11,
    "start_time": "2023-05-08T15:04:00.906Z"
   },
   {
    "duration": 6,
    "start_time": "2023-05-08T15:04:09.474Z"
   },
   {
    "duration": 6,
    "start_time": "2023-05-08T15:04:15.718Z"
   },
   {
    "duration": 7,
    "start_time": "2023-05-08T15:04:20.334Z"
   },
   {
    "duration": 9,
    "start_time": "2023-05-08T15:04:59.914Z"
   },
   {
    "duration": 341,
    "start_time": "2023-05-08T15:05:14.130Z"
   },
   {
    "duration": 6,
    "start_time": "2023-05-08T15:05:39.858Z"
   },
   {
    "duration": 382,
    "start_time": "2023-05-08T15:05:45.322Z"
   },
   {
    "duration": 5,
    "start_time": "2023-05-08T15:06:03.862Z"
   },
   {
    "duration": 8,
    "start_time": "2023-05-08T15:06:12.010Z"
   },
   {
    "duration": 10,
    "start_time": "2023-05-08T15:06:50.882Z"
   },
   {
    "duration": 7,
    "start_time": "2023-05-08T15:07:01.618Z"
   },
   {
    "duration": 6,
    "start_time": "2023-05-08T15:10:44.654Z"
   },
   {
    "duration": 13,
    "start_time": "2023-05-08T15:11:05.798Z"
   },
   {
    "duration": 8,
    "start_time": "2023-05-08T15:12:13.133Z"
   },
   {
    "duration": 9,
    "start_time": "2023-05-08T15:12:40.050Z"
   },
   {
    "duration": 6,
    "start_time": "2023-05-08T15:12:45.842Z"
   },
   {
    "duration": 17,
    "start_time": "2023-05-08T15:13:22.122Z"
   },
   {
    "duration": 5,
    "start_time": "2023-05-08T15:13:26.374Z"
   },
   {
    "duration": 14,
    "start_time": "2023-05-08T15:13:57.750Z"
   },
   {
    "duration": 61,
    "start_time": "2023-05-08T15:14:57.746Z"
   },
   {
    "duration": 13,
    "start_time": "2023-05-08T15:15:03.178Z"
   },
   {
    "duration": 76,
    "start_time": "2023-05-08T15:15:11.326Z"
   },
   {
    "duration": 14,
    "start_time": "2023-05-08T15:15:34.782Z"
   },
   {
    "duration": 57,
    "start_time": "2023-05-08T15:15:38.276Z"
   },
   {
    "duration": 12,
    "start_time": "2023-05-08T15:15:56.607Z"
   },
   {
    "duration": 12,
    "start_time": "2023-05-08T15:16:07.471Z"
   },
   {
    "duration": 18,
    "start_time": "2023-05-08T15:16:24.646Z"
   },
   {
    "duration": 13,
    "start_time": "2023-05-08T15:16:51.050Z"
   },
   {
    "duration": 9,
    "start_time": "2023-05-08T15:16:59.282Z"
   },
   {
    "duration": 9,
    "start_time": "2023-05-08T15:17:17.538Z"
   },
   {
    "duration": 6,
    "start_time": "2023-05-08T15:17:40.926Z"
   },
   {
    "duration": 8,
    "start_time": "2023-05-08T15:19:50.922Z"
   },
   {
    "duration": 8,
    "start_time": "2023-05-08T15:20:02.958Z"
   },
   {
    "duration": 14,
    "start_time": "2023-05-08T15:20:09.982Z"
   },
   {
    "duration": 8,
    "start_time": "2023-05-08T15:20:13.642Z"
   },
   {
    "duration": 7,
    "start_time": "2023-05-08T15:20:59.442Z"
   },
   {
    "duration": 7,
    "start_time": "2023-05-08T15:21:10.514Z"
   },
   {
    "duration": 47,
    "start_time": "2023-05-08T15:22:54.370Z"
   },
   {
    "duration": 14,
    "start_time": "2023-05-08T15:35:36.514Z"
   },
   {
    "duration": 5,
    "start_time": "2023-05-08T15:35:44.158Z"
   },
   {
    "duration": 5,
    "start_time": "2023-05-08T15:37:04.934Z"
   },
   {
    "duration": 7,
    "start_time": "2023-05-08T15:37:59.762Z"
   },
   {
    "duration": 14,
    "start_time": "2023-05-08T15:38:29.808Z"
   },
   {
    "duration": 5,
    "start_time": "2023-05-08T15:39:23.216Z"
   },
   {
    "duration": 21,
    "start_time": "2023-05-08T15:41:10.745Z"
   },
   {
    "duration": 28,
    "start_time": "2023-05-08T15:44:16.742Z"
   },
   {
    "duration": 11,
    "start_time": "2023-05-08T15:44:57.321Z"
   },
   {
    "duration": 1129,
    "start_time": "2023-05-08T15:45:42.055Z"
   },
   {
    "duration": 87,
    "start_time": "2023-05-08T15:45:43.185Z"
   },
   {
    "duration": 12,
    "start_time": "2023-05-08T15:45:43.274Z"
   },
   {
    "duration": 16,
    "start_time": "2023-05-08T15:45:43.288Z"
   },
   {
    "duration": 13,
    "start_time": "2023-05-08T15:45:43.305Z"
   },
   {
    "duration": 40,
    "start_time": "2023-05-08T15:45:43.319Z"
   },
   {
    "duration": 7,
    "start_time": "2023-05-08T15:45:43.361Z"
   },
   {
    "duration": 12,
    "start_time": "2023-05-08T15:45:43.370Z"
   },
   {
    "duration": 9,
    "start_time": "2023-05-08T15:45:43.384Z"
   },
   {
    "duration": 14,
    "start_time": "2023-05-08T15:45:43.396Z"
   },
   {
    "duration": 7,
    "start_time": "2023-05-08T15:45:43.412Z"
   },
   {
    "duration": 39,
    "start_time": "2023-05-08T15:45:43.421Z"
   },
   {
    "duration": 10,
    "start_time": "2023-05-08T15:45:43.462Z"
   },
   {
    "duration": 162,
    "start_time": "2023-05-08T15:45:43.474Z"
   },
   {
    "duration": 131,
    "start_time": "2023-05-08T15:45:43.638Z"
   },
   {
    "duration": 12,
    "start_time": "2023-05-08T15:45:43.771Z"
   },
   {
    "duration": 5,
    "start_time": "2023-05-08T15:45:43.785Z"
   },
   {
    "duration": 361,
    "start_time": "2023-05-08T15:45:43.791Z"
   },
   {
    "duration": 236,
    "start_time": "2023-05-08T15:45:44.154Z"
   },
   {
    "duration": 325,
    "start_time": "2023-05-08T15:45:44.392Z"
   },
   {
    "duration": 230,
    "start_time": "2023-05-08T15:45:44.718Z"
   },
   {
    "duration": 7,
    "start_time": "2023-05-08T15:45:44.955Z"
   },
   {
    "duration": 312,
    "start_time": "2023-05-08T15:45:44.963Z"
   },
   {
    "duration": 125,
    "start_time": "2023-05-08T15:45:45.277Z"
   },
   {
    "duration": 138,
    "start_time": "2023-05-08T15:45:45.404Z"
   },
   {
    "duration": 144,
    "start_time": "2023-05-08T15:45:45.543Z"
   },
   {
    "duration": 23,
    "start_time": "2023-05-08T15:45:45.689Z"
   },
   {
    "duration": 6,
    "start_time": "2023-05-08T15:45:45.715Z"
   },
   {
    "duration": 134,
    "start_time": "2023-05-08T15:45:45.722Z"
   },
   {
    "duration": 0,
    "start_time": "2023-05-08T15:45:45.858Z"
   },
   {
    "duration": 0,
    "start_time": "2023-05-08T15:45:45.859Z"
   },
   {
    "duration": 0,
    "start_time": "2023-05-08T15:45:45.860Z"
   },
   {
    "duration": 0,
    "start_time": "2023-05-08T15:45:45.861Z"
   },
   {
    "duration": 23,
    "start_time": "2023-05-08T15:48:04.790Z"
   },
   {
    "duration": 21,
    "start_time": "2023-05-08T15:48:31.162Z"
   },
   {
    "duration": 9,
    "start_time": "2023-05-08T15:48:32.363Z"
   },
   {
    "duration": 8,
    "start_time": "2023-05-08T15:48:33.274Z"
   },
   {
    "duration": 28,
    "start_time": "2023-05-08T15:48:33.674Z"
   },
   {
    "duration": 8,
    "start_time": "2023-05-08T15:48:33.891Z"
   },
   {
    "duration": 21,
    "start_time": "2023-05-08T15:49:14.310Z"
   },
   {
    "duration": 11,
    "start_time": "2023-05-08T15:50:35.683Z"
   },
   {
    "duration": 5,
    "start_time": "2023-05-08T15:50:43.115Z"
   },
   {
    "duration": 1092,
    "start_time": "2023-05-08T15:51:08.891Z"
   },
   {
    "duration": 95,
    "start_time": "2023-05-08T15:51:09.985Z"
   },
   {
    "duration": 14,
    "start_time": "2023-05-08T15:51:10.081Z"
   },
   {
    "duration": 22,
    "start_time": "2023-05-08T15:51:10.098Z"
   },
   {
    "duration": 17,
    "start_time": "2023-05-08T15:51:10.122Z"
   },
   {
    "duration": 52,
    "start_time": "2023-05-08T15:51:10.143Z"
   },
   {
    "duration": 10,
    "start_time": "2023-05-08T15:51:10.196Z"
   },
   {
    "duration": 15,
    "start_time": "2023-05-08T15:51:10.207Z"
   },
   {
    "duration": 15,
    "start_time": "2023-05-08T15:51:10.224Z"
   },
   {
    "duration": 12,
    "start_time": "2023-05-08T15:51:10.242Z"
   },
   {
    "duration": 16,
    "start_time": "2023-05-08T15:51:10.256Z"
   },
   {
    "duration": 8,
    "start_time": "2023-05-08T15:51:10.274Z"
   },
   {
    "duration": 18,
    "start_time": "2023-05-08T15:51:10.284Z"
   },
   {
    "duration": 167,
    "start_time": "2023-05-08T15:51:10.303Z"
   },
   {
    "duration": 137,
    "start_time": "2023-05-08T15:51:10.471Z"
   },
   {
    "duration": 13,
    "start_time": "2023-05-08T15:51:10.609Z"
   },
   {
    "duration": 11,
    "start_time": "2023-05-08T15:51:10.624Z"
   },
   {
    "duration": 288,
    "start_time": "2023-05-08T15:51:10.636Z"
   },
   {
    "duration": 231,
    "start_time": "2023-05-08T15:51:10.926Z"
   },
   {
    "duration": 342,
    "start_time": "2023-05-08T15:51:11.159Z"
   },
   {
    "duration": 227,
    "start_time": "2023-05-08T15:51:11.503Z"
   },
   {
    "duration": 5,
    "start_time": "2023-05-08T15:51:11.732Z"
   },
   {
    "duration": 343,
    "start_time": "2023-05-08T15:51:11.739Z"
   },
   {
    "duration": 134,
    "start_time": "2023-05-08T15:51:12.084Z"
   },
   {
    "duration": 163,
    "start_time": "2023-05-08T15:51:12.220Z"
   },
   {
    "duration": 133,
    "start_time": "2023-05-08T15:51:12.385Z"
   },
   {
    "duration": 25,
    "start_time": "2023-05-08T15:51:12.519Z"
   },
   {
    "duration": 7,
    "start_time": "2023-05-08T15:51:12.555Z"
   },
   {
    "duration": 24,
    "start_time": "2023-05-08T15:51:12.563Z"
   },
   {
    "duration": 9,
    "start_time": "2023-05-08T15:51:12.588Z"
   },
   {
    "duration": 7,
    "start_time": "2023-05-08T15:51:12.599Z"
   },
   {
    "duration": 53,
    "start_time": "2023-05-08T15:51:12.608Z"
   },
   {
    "duration": 6,
    "start_time": "2023-05-08T15:51:12.663Z"
   },
   {
    "duration": 31,
    "start_time": "2023-05-08T15:51:12.671Z"
   },
   {
    "duration": 26,
    "start_time": "2023-05-08T15:55:22.458Z"
   },
   {
    "duration": 33,
    "start_time": "2023-05-08T15:55:27.015Z"
   },
   {
    "duration": 9,
    "start_time": "2023-05-08T16:00:46.742Z"
   },
   {
    "duration": 10,
    "start_time": "2023-05-08T16:01:24.675Z"
   },
   {
    "duration": 1021,
    "start_time": "2023-05-08T16:01:37.367Z"
   },
   {
    "duration": 92,
    "start_time": "2023-05-08T16:01:38.390Z"
   },
   {
    "duration": 17,
    "start_time": "2023-05-08T16:01:38.485Z"
   },
   {
    "duration": 35,
    "start_time": "2023-05-08T16:01:38.505Z"
   },
   {
    "duration": 26,
    "start_time": "2023-05-08T16:01:38.542Z"
   },
   {
    "duration": 74,
    "start_time": "2023-05-08T16:01:38.570Z"
   },
   {
    "duration": 12,
    "start_time": "2023-05-08T16:01:38.647Z"
   },
   {
    "duration": 41,
    "start_time": "2023-05-08T16:01:38.661Z"
   },
   {
    "duration": 58,
    "start_time": "2023-05-08T16:01:38.704Z"
   },
   {
    "duration": 50,
    "start_time": "2023-05-08T16:01:38.766Z"
   },
   {
    "duration": 26,
    "start_time": "2023-05-08T16:01:38.818Z"
   },
   {
    "duration": 24,
    "start_time": "2023-05-08T16:01:38.846Z"
   },
   {
    "duration": 37,
    "start_time": "2023-05-08T16:01:38.871Z"
   },
   {
    "duration": 192,
    "start_time": "2023-05-08T16:01:38.910Z"
   },
   {
    "duration": 126,
    "start_time": "2023-05-08T16:01:39.104Z"
   },
   {
    "duration": 50,
    "start_time": "2023-05-08T16:01:39.231Z"
   },
   {
    "duration": 7,
    "start_time": "2023-05-08T16:01:39.283Z"
   },
   {
    "duration": 306,
    "start_time": "2023-05-08T16:01:39.292Z"
   },
   {
    "duration": 229,
    "start_time": "2023-05-08T16:01:39.599Z"
   },
   {
    "duration": 370,
    "start_time": "2023-05-08T16:01:39.830Z"
   },
   {
    "duration": 225,
    "start_time": "2023-05-08T16:01:40.203Z"
   },
   {
    "duration": 6,
    "start_time": "2023-05-08T16:01:40.430Z"
   },
   {
    "duration": 348,
    "start_time": "2023-05-08T16:01:40.438Z"
   },
   {
    "duration": 133,
    "start_time": "2023-05-08T16:01:40.788Z"
   },
   {
    "duration": 157,
    "start_time": "2023-05-08T16:01:40.923Z"
   },
   {
    "duration": 149,
    "start_time": "2023-05-08T16:01:41.082Z"
   },
   {
    "duration": 36,
    "start_time": "2023-05-08T16:01:41.233Z"
   },
   {
    "duration": 9,
    "start_time": "2023-05-08T16:01:41.273Z"
   },
   {
    "duration": 33,
    "start_time": "2023-05-08T16:01:41.284Z"
   },
   {
    "duration": 9,
    "start_time": "2023-05-08T16:01:41.319Z"
   },
   {
    "duration": 29,
    "start_time": "2023-05-08T16:01:41.330Z"
   },
   {
    "duration": 48,
    "start_time": "2023-05-08T16:01:41.361Z"
   },
   {
    "duration": 8,
    "start_time": "2023-05-08T16:01:41.412Z"
   },
   {
    "duration": 52,
    "start_time": "2023-05-08T16:01:41.422Z"
   },
   {
    "duration": 13,
    "start_time": "2023-05-08T16:01:41.476Z"
   },
   {
    "duration": 45,
    "start_time": "2023-05-08T16:01:41.492Z"
   },
   {
    "duration": 14,
    "start_time": "2023-05-08T16:04:26.219Z"
   },
   {
    "duration": 8,
    "start_time": "2023-05-08T16:49:39.923Z"
   },
   {
    "duration": 28,
    "start_time": "2023-05-08T16:50:18.532Z"
   },
   {
    "duration": 8,
    "start_time": "2023-05-08T16:50:20.713Z"
   },
   {
    "duration": 33,
    "start_time": "2023-05-08T16:50:25.947Z"
   },
   {
    "duration": 11,
    "start_time": "2023-05-08T16:50:37.513Z"
   },
   {
    "duration": 25,
    "start_time": "2023-05-08T17:01:03.332Z"
   },
   {
    "duration": 7,
    "start_time": "2023-05-08T17:01:04.224Z"
   },
   {
    "duration": 21,
    "start_time": "2023-05-08T17:01:05.124Z"
   },
   {
    "duration": 11,
    "start_time": "2023-05-08T17:01:13.020Z"
   },
   {
    "duration": 7,
    "start_time": "2023-05-08T17:21:35.707Z"
   },
   {
    "duration": 275,
    "start_time": "2023-05-08T17:56:32.907Z"
   },
   {
    "duration": 375,
    "start_time": "2023-05-08T17:56:45.682Z"
   },
   {
    "duration": 349,
    "start_time": "2023-05-08T17:57:35.245Z"
   },
   {
    "duration": 1003,
    "start_time": "2023-05-08T18:05:58.273Z"
   },
   {
    "duration": 82,
    "start_time": "2023-05-08T18:05:59.278Z"
   },
   {
    "duration": 10,
    "start_time": "2023-05-08T18:05:59.362Z"
   },
   {
    "duration": 13,
    "start_time": "2023-05-08T18:05:59.374Z"
   },
   {
    "duration": 11,
    "start_time": "2023-05-08T18:05:59.388Z"
   },
   {
    "duration": 41,
    "start_time": "2023-05-08T18:05:59.400Z"
   },
   {
    "duration": 7,
    "start_time": "2023-05-08T18:05:59.443Z"
   },
   {
    "duration": 10,
    "start_time": "2023-05-08T18:05:59.452Z"
   },
   {
    "duration": 10,
    "start_time": "2023-05-08T18:05:59.463Z"
   },
   {
    "duration": 9,
    "start_time": "2023-05-08T18:05:59.475Z"
   },
   {
    "duration": 6,
    "start_time": "2023-05-08T18:05:59.486Z"
   },
   {
    "duration": 7,
    "start_time": "2023-05-08T18:05:59.494Z"
   },
   {
    "duration": 14,
    "start_time": "2023-05-08T18:05:59.502Z"
   },
   {
    "duration": 177,
    "start_time": "2023-05-08T18:05:59.518Z"
   },
   {
    "duration": 117,
    "start_time": "2023-05-08T18:05:59.697Z"
   },
   {
    "duration": 13,
    "start_time": "2023-05-08T18:05:59.816Z"
   },
   {
    "duration": 25,
    "start_time": "2023-05-08T18:05:59.831Z"
   },
   {
    "duration": 270,
    "start_time": "2023-05-08T18:05:59.858Z"
   },
   {
    "duration": 209,
    "start_time": "2023-05-08T18:06:00.130Z"
   },
   {
    "duration": 334,
    "start_time": "2023-05-08T18:06:00.341Z"
   },
   {
    "duration": 202,
    "start_time": "2023-05-08T18:06:00.677Z"
   },
   {
    "duration": 6,
    "start_time": "2023-05-08T18:06:00.881Z"
   },
   {
    "duration": 353,
    "start_time": "2023-05-08T18:06:00.888Z"
   },
   {
    "duration": 119,
    "start_time": "2023-05-08T18:06:01.243Z"
   },
   {
    "duration": 133,
    "start_time": "2023-05-08T18:06:01.363Z"
   },
   {
    "duration": 142,
    "start_time": "2023-05-08T18:06:01.498Z"
   },
   {
    "duration": 32,
    "start_time": "2023-05-08T18:06:01.641Z"
   },
   {
    "duration": 63,
    "start_time": "2023-05-08T18:06:01.676Z"
   },
   {
    "duration": 77,
    "start_time": "2023-05-08T18:06:01.741Z"
   },
   {
    "duration": 15,
    "start_time": "2023-05-08T18:06:01.820Z"
   },
   {
    "duration": 40,
    "start_time": "2023-05-08T18:06:01.837Z"
   },
   {
    "duration": 78,
    "start_time": "2023-05-08T18:06:01.878Z"
   },
   {
    "duration": 43,
    "start_time": "2023-05-08T18:06:01.958Z"
   },
   {
    "duration": 48,
    "start_time": "2023-05-08T18:06:02.003Z"
   },
   {
    "duration": 48,
    "start_time": "2023-05-08T18:06:02.053Z"
   },
   {
    "duration": 1020,
    "start_time": "2023-05-09T05:54:21.017Z"
   },
   {
    "duration": 118,
    "start_time": "2023-05-09T05:54:22.040Z"
   },
   {
    "duration": 10,
    "start_time": "2023-05-09T05:54:22.160Z"
   },
   {
    "duration": 12,
    "start_time": "2023-05-09T05:54:22.172Z"
   },
   {
    "duration": 12,
    "start_time": "2023-05-09T05:54:22.192Z"
   },
   {
    "duration": 134,
    "start_time": "2023-05-09T05:54:22.205Z"
   },
   {
    "duration": 10,
    "start_time": "2023-05-09T05:54:22.340Z"
   },
   {
    "duration": 11,
    "start_time": "2023-05-09T05:54:22.352Z"
   },
   {
    "duration": 9,
    "start_time": "2023-05-09T05:54:22.366Z"
   },
   {
    "duration": 12,
    "start_time": "2023-05-09T05:54:22.378Z"
   },
   {
    "duration": 7,
    "start_time": "2023-05-09T05:54:22.392Z"
   },
   {
    "duration": 7,
    "start_time": "2023-05-09T05:54:22.401Z"
   },
   {
    "duration": 12,
    "start_time": "2023-05-09T05:54:22.410Z"
   },
   {
    "duration": 180,
    "start_time": "2023-05-09T05:54:22.425Z"
   },
   {
    "duration": 120,
    "start_time": "2023-05-09T05:54:22.606Z"
   },
   {
    "duration": 12,
    "start_time": "2023-05-09T05:54:22.727Z"
   },
   {
    "duration": 7,
    "start_time": "2023-05-09T05:54:22.740Z"
   },
   {
    "duration": 280,
    "start_time": "2023-05-09T05:54:22.749Z"
   },
   {
    "duration": 214,
    "start_time": "2023-05-09T05:54:23.031Z"
   },
   {
    "duration": 318,
    "start_time": "2023-05-09T05:54:23.246Z"
   },
   {
    "duration": 236,
    "start_time": "2023-05-09T05:54:23.566Z"
   },
   {
    "duration": 6,
    "start_time": "2023-05-09T05:54:23.804Z"
   },
   {
    "duration": 320,
    "start_time": "2023-05-09T05:54:23.811Z"
   },
   {
    "duration": 128,
    "start_time": "2023-05-09T05:54:24.133Z"
   },
   {
    "duration": 150,
    "start_time": "2023-05-09T05:54:24.263Z"
   },
   {
    "duration": 162,
    "start_time": "2023-05-09T05:54:24.414Z"
   },
   {
    "duration": 33,
    "start_time": "2023-05-09T05:54:24.578Z"
   },
   {
    "duration": 7,
    "start_time": "2023-05-09T05:54:24.614Z"
   },
   {
    "duration": 27,
    "start_time": "2023-05-09T05:54:24.622Z"
   },
   {
    "duration": 10,
    "start_time": "2023-05-09T05:54:24.650Z"
   },
   {
    "duration": 31,
    "start_time": "2023-05-09T05:54:24.661Z"
   },
   {
    "duration": 33,
    "start_time": "2023-05-09T05:54:24.694Z"
   },
   {
    "duration": 7,
    "start_time": "2023-05-09T05:54:24.729Z"
   },
   {
    "duration": 25,
    "start_time": "2023-05-09T05:54:24.737Z"
   },
   {
    "duration": 36,
    "start_time": "2023-05-09T05:54:24.764Z"
   },
   {
    "duration": 1061,
    "start_time": "2023-05-09T13:31:02.931Z"
   },
   {
    "duration": 104,
    "start_time": "2023-05-09T13:31:03.999Z"
   },
   {
    "duration": 11,
    "start_time": "2023-05-09T13:31:04.105Z"
   },
   {
    "duration": 45,
    "start_time": "2023-05-09T13:31:04.120Z"
   },
   {
    "duration": 65,
    "start_time": "2023-05-09T13:31:04.168Z"
   },
   {
    "duration": 78,
    "start_time": "2023-05-09T13:31:04.235Z"
   },
   {
    "duration": 8,
    "start_time": "2023-05-09T13:31:04.314Z"
   },
   {
    "duration": 26,
    "start_time": "2023-05-09T13:31:04.324Z"
   },
   {
    "duration": 14,
    "start_time": "2023-05-09T13:31:04.352Z"
   },
   {
    "duration": 22,
    "start_time": "2023-05-09T13:31:04.369Z"
   },
   {
    "duration": 23,
    "start_time": "2023-05-09T13:31:04.393Z"
   },
   {
    "duration": 24,
    "start_time": "2023-05-09T13:31:04.418Z"
   },
   {
    "duration": 25,
    "start_time": "2023-05-09T13:31:04.444Z"
   },
   {
    "duration": 196,
    "start_time": "2023-05-09T13:31:04.471Z"
   },
   {
    "duration": 146,
    "start_time": "2023-05-09T13:31:04.669Z"
   },
   {
    "duration": 24,
    "start_time": "2023-05-09T13:31:04.817Z"
   },
   {
    "duration": 111,
    "start_time": "2023-05-09T13:31:04.843Z"
   },
   {
    "duration": 441,
    "start_time": "2023-05-09T13:31:04.957Z"
   },
   {
    "duration": 224,
    "start_time": "2023-05-09T13:31:05.403Z"
   },
   {
    "duration": 309,
    "start_time": "2023-05-09T13:31:05.629Z"
   },
   {
    "duration": 228,
    "start_time": "2023-05-09T13:31:05.939Z"
   },
   {
    "duration": 6,
    "start_time": "2023-05-09T13:31:06.169Z"
   },
   {
    "duration": 386,
    "start_time": "2023-05-09T13:31:06.185Z"
   },
   {
    "duration": 140,
    "start_time": "2023-05-09T13:31:06.572Z"
   },
   {
    "duration": 181,
    "start_time": "2023-05-09T13:31:06.715Z"
   },
   {
    "duration": 128,
    "start_time": "2023-05-09T13:31:06.898Z"
   },
   {
    "duration": 23,
    "start_time": "2023-05-09T13:31:07.028Z"
   },
   {
    "duration": 7,
    "start_time": "2023-05-09T13:31:07.055Z"
   },
   {
    "duration": 50,
    "start_time": "2023-05-09T13:31:07.063Z"
   },
   {
    "duration": 9,
    "start_time": "2023-05-09T13:31:07.115Z"
   },
   {
    "duration": 11,
    "start_time": "2023-05-09T13:31:07.126Z"
   },
   {
    "duration": 51,
    "start_time": "2023-05-09T13:31:07.138Z"
   },
   {
    "duration": 28,
    "start_time": "2023-05-09T13:31:07.190Z"
   },
   {
    "duration": 41,
    "start_time": "2023-05-09T13:31:07.220Z"
   },
   {
    "duration": 10,
    "start_time": "2023-05-09T13:31:07.263Z"
   },
   {
    "duration": 55,
    "start_time": "2023-05-09T17:07:12.254Z"
   },
   {
    "duration": 1258,
    "start_time": "2023-05-09T17:07:17.239Z"
   },
   {
    "duration": 135,
    "start_time": "2023-05-09T17:07:18.499Z"
   },
   {
    "duration": 22,
    "start_time": "2023-05-09T17:07:22.039Z"
   },
   {
    "duration": 29,
    "start_time": "2023-05-09T17:07:32.511Z"
   },
   {
    "duration": 1206,
    "start_time": "2023-05-09T17:10:04.979Z"
   },
   {
    "duration": 77,
    "start_time": "2023-05-09T17:10:06.187Z"
   },
   {
    "duration": 23,
    "start_time": "2023-05-09T17:10:06.266Z"
   },
   {
    "duration": 33,
    "start_time": "2023-05-09T17:10:06.292Z"
   },
   {
    "duration": 14,
    "start_time": "2023-05-09T17:10:06.327Z"
   },
   {
    "duration": 130,
    "start_time": "2023-05-09T17:10:06.343Z"
   },
   {
    "duration": 9,
    "start_time": "2023-05-09T17:10:06.475Z"
   },
   {
    "duration": 21,
    "start_time": "2023-05-09T17:10:06.486Z"
   },
   {
    "duration": 12,
    "start_time": "2023-05-09T17:10:06.509Z"
   },
   {
    "duration": 14,
    "start_time": "2023-05-09T17:10:06.525Z"
   },
   {
    "duration": 15,
    "start_time": "2023-05-09T17:10:06.540Z"
   },
   {
    "duration": 9,
    "start_time": "2023-05-09T17:10:06.556Z"
   },
   {
    "duration": 29,
    "start_time": "2023-05-09T17:10:06.566Z"
   },
   {
    "duration": 179,
    "start_time": "2023-05-09T17:10:06.598Z"
   },
   {
    "duration": 141,
    "start_time": "2023-05-09T17:10:06.780Z"
   },
   {
    "duration": 15,
    "start_time": "2023-05-09T17:10:06.923Z"
   },
   {
    "duration": 25,
    "start_time": "2023-05-09T17:10:06.939Z"
   },
   {
    "duration": 316,
    "start_time": "2023-05-09T17:10:06.966Z"
   },
   {
    "duration": 255,
    "start_time": "2023-05-09T17:10:07.284Z"
   },
   {
    "duration": 330,
    "start_time": "2023-05-09T17:10:07.542Z"
   },
   {
    "duration": 245,
    "start_time": "2023-05-09T17:10:07.874Z"
   },
   {
    "duration": 6,
    "start_time": "2023-05-09T17:10:08.121Z"
   },
   {
    "duration": 342,
    "start_time": "2023-05-09T17:10:08.129Z"
   },
   {
    "duration": 140,
    "start_time": "2023-05-09T17:10:08.473Z"
   },
   {
    "duration": 169,
    "start_time": "2023-05-09T17:10:08.615Z"
   },
   {
    "duration": 160,
    "start_time": "2023-05-09T17:10:08.790Z"
   },
   {
    "duration": 43,
    "start_time": "2023-05-09T17:10:08.952Z"
   },
   {
    "duration": 7,
    "start_time": "2023-05-09T17:10:08.998Z"
   },
   {
    "duration": 79,
    "start_time": "2023-05-09T17:10:09.007Z"
   },
   {
    "duration": 31,
    "start_time": "2023-05-09T17:10:09.088Z"
   },
   {
    "duration": 21,
    "start_time": "2023-05-09T17:10:09.121Z"
   },
   {
    "duration": 53,
    "start_time": "2023-05-09T17:10:09.145Z"
   },
   {
    "duration": 14,
    "start_time": "2023-05-09T17:10:09.200Z"
   },
   {
    "duration": 30,
    "start_time": "2023-05-09T17:10:09.215Z"
   },
   {
    "duration": 21,
    "start_time": "2023-05-09T17:10:09.247Z"
   },
   {
    "duration": 5,
    "start_time": "2023-05-09T17:21:50.746Z"
   },
   {
    "duration": 111,
    "start_time": "2023-05-09T17:22:05.531Z"
   },
   {
    "duration": 4,
    "start_time": "2023-05-09T17:22:39.242Z"
   },
   {
    "duration": 4,
    "start_time": "2023-05-09T17:22:56.674Z"
   },
   {
    "duration": 7,
    "start_time": "2023-05-09T17:24:08.918Z"
   },
   {
    "duration": 5,
    "start_time": "2023-05-09T17:24:13.163Z"
   },
   {
    "duration": 5,
    "start_time": "2023-05-09T17:24:50.392Z"
   },
   {
    "duration": 4,
    "start_time": "2023-05-09T17:25:21.091Z"
   },
   {
    "duration": 5,
    "start_time": "2023-05-09T17:25:48.858Z"
   },
   {
    "duration": 52,
    "start_time": "2023-05-09T17:25:53.431Z"
   },
   {
    "duration": 49,
    "start_time": "2023-05-09T17:25:59.194Z"
   },
   {
    "duration": 54,
    "start_time": "2023-05-09T17:26:02.995Z"
   },
   {
    "duration": 4,
    "start_time": "2023-05-09T17:26:07.435Z"
   },
   {
    "duration": 4,
    "start_time": "2023-05-09T17:26:11.347Z"
   },
   {
    "duration": 51,
    "start_time": "2023-05-09T17:29:00.999Z"
   },
   {
    "duration": 6,
    "start_time": "2023-05-09T17:29:10.243Z"
   },
   {
    "duration": 5,
    "start_time": "2023-05-09T17:29:15.551Z"
   },
   {
    "duration": 5,
    "start_time": "2023-05-09T17:29:33.890Z"
   },
   {
    "duration": 5,
    "start_time": "2023-05-09T17:33:47.094Z"
   },
   {
    "duration": 9,
    "start_time": "2023-05-09T17:38:53.007Z"
   },
   {
    "duration": 4,
    "start_time": "2023-05-09T17:39:49.008Z"
   },
   {
    "duration": 7,
    "start_time": "2023-05-09T17:39:57.523Z"
   },
   {
    "duration": 594,
    "start_time": "2023-05-09T17:40:44.407Z"
   },
   {
    "duration": 15,
    "start_time": "2023-05-09T17:41:03.631Z"
   },
   {
    "duration": 8,
    "start_time": "2023-05-09T17:42:10.892Z"
   },
   {
    "duration": 8,
    "start_time": "2023-05-09T17:42:26.898Z"
   },
   {
    "duration": 5,
    "start_time": "2023-05-09T17:43:28.539Z"
   },
   {
    "duration": 5,
    "start_time": "2023-05-09T17:43:34.735Z"
   },
   {
    "duration": 59,
    "start_time": "2023-05-09T17:44:02.426Z"
   },
   {
    "duration": 54,
    "start_time": "2023-05-09T17:45:23.003Z"
   },
   {
    "duration": 6,
    "start_time": "2023-05-09T17:45:27.225Z"
   },
   {
    "duration": 6,
    "start_time": "2023-05-09T17:47:17.871Z"
   },
   {
    "duration": 8,
    "start_time": "2023-05-09T17:48:32.831Z"
   },
   {
    "duration": 62,
    "start_time": "2023-05-09T17:48:53.442Z"
   },
   {
    "duration": 10,
    "start_time": "2023-05-09T17:48:57.579Z"
   },
   {
    "duration": 11,
    "start_time": "2023-05-09T17:49:12.607Z"
   },
   {
    "duration": 3,
    "start_time": "2023-05-09T17:50:51.122Z"
   },
   {
    "duration": 10,
    "start_time": "2023-05-09T17:50:58.343Z"
   },
   {
    "duration": 4,
    "start_time": "2023-05-09T17:51:03.891Z"
   },
   {
    "duration": 4,
    "start_time": "2023-05-09T17:52:08.297Z"
   },
   {
    "duration": 66,
    "start_time": "2023-05-09T17:52:17.407Z"
   },
   {
    "duration": 4,
    "start_time": "2023-05-09T17:52:18.047Z"
   },
   {
    "duration": 9,
    "start_time": "2023-05-09T17:52:29.631Z"
   },
   {
    "duration": 5,
    "start_time": "2023-05-09T17:52:31.803Z"
   },
   {
    "duration": 4,
    "start_time": "2023-05-09T17:53:19.001Z"
   },
   {
    "duration": 8,
    "start_time": "2023-05-09T17:53:32.163Z"
   },
   {
    "duration": 9,
    "start_time": "2023-05-09T17:54:25.034Z"
   },
   {
    "duration": 5,
    "start_time": "2023-05-09T17:57:09.675Z"
   },
   {
    "duration": 7,
    "start_time": "2023-05-09T17:57:17.302Z"
   },
   {
    "duration": 7,
    "start_time": "2023-05-09T17:57:25.875Z"
   },
   {
    "duration": 7,
    "start_time": "2023-05-09T17:59:36.515Z"
   },
   {
    "duration": 5,
    "start_time": "2023-05-09T18:00:04.793Z"
   },
   {
    "duration": 9,
    "start_time": "2023-05-09T18:00:16.402Z"
   },
   {
    "duration": 5,
    "start_time": "2023-05-09T18:00:16.923Z"
   },
   {
    "duration": 6,
    "start_time": "2023-05-09T18:00:34.166Z"
   },
   {
    "duration": 5,
    "start_time": "2023-05-09T18:00:34.771Z"
   },
   {
    "duration": 7,
    "start_time": "2023-05-09T18:01:32.398Z"
   },
   {
    "duration": 51,
    "start_time": "2023-05-09T18:05:53.920Z"
   },
   {
    "duration": 41,
    "start_time": "2023-05-09T18:05:57.567Z"
   },
   {
    "duration": 53,
    "start_time": "2023-05-09T18:06:00.058Z"
   },
   {
    "duration": 8,
    "start_time": "2023-05-09T18:06:08.084Z"
   },
   {
    "duration": 1143,
    "start_time": "2023-05-09T18:07:06.134Z"
   },
   {
    "duration": 96,
    "start_time": "2023-05-09T18:07:07.279Z"
   },
   {
    "duration": 13,
    "start_time": "2023-05-09T18:07:07.377Z"
   },
   {
    "duration": 20,
    "start_time": "2023-05-09T18:07:07.392Z"
   },
   {
    "duration": 14,
    "start_time": "2023-05-09T18:07:07.414Z"
   },
   {
    "duration": 45,
    "start_time": "2023-05-09T18:07:07.429Z"
   },
   {
    "duration": 9,
    "start_time": "2023-05-09T18:07:07.476Z"
   },
   {
    "duration": 12,
    "start_time": "2023-05-09T18:07:07.486Z"
   },
   {
    "duration": 17,
    "start_time": "2023-05-09T18:07:07.500Z"
   },
   {
    "duration": 34,
    "start_time": "2023-05-09T18:07:07.520Z"
   },
   {
    "duration": 25,
    "start_time": "2023-05-09T18:07:07.557Z"
   },
   {
    "duration": 11,
    "start_time": "2023-05-09T18:07:07.584Z"
   },
   {
    "duration": 10,
    "start_time": "2023-05-09T18:07:07.597Z"
   },
   {
    "duration": 12,
    "start_time": "2023-05-09T18:07:07.609Z"
   },
   {
    "duration": 8,
    "start_time": "2023-05-09T18:07:07.623Z"
   },
   {
    "duration": 8,
    "start_time": "2023-05-09T18:07:07.633Z"
   },
   {
    "duration": 11,
    "start_time": "2023-05-09T18:07:07.643Z"
   },
   {
    "duration": 206,
    "start_time": "2023-05-09T18:07:07.657Z"
   },
   {
    "duration": 137,
    "start_time": "2023-05-09T18:07:07.865Z"
   },
   {
    "duration": 14,
    "start_time": "2023-05-09T18:07:08.004Z"
   },
   {
    "duration": 6,
    "start_time": "2023-05-09T18:07:08.020Z"
   },
   {
    "duration": 323,
    "start_time": "2023-05-09T18:07:08.028Z"
   },
   {
    "duration": 241,
    "start_time": "2023-05-09T18:07:08.353Z"
   },
   {
    "duration": 331,
    "start_time": "2023-05-09T18:07:08.596Z"
   },
   {
    "duration": 257,
    "start_time": "2023-05-09T18:07:08.929Z"
   },
   {
    "duration": 6,
    "start_time": "2023-05-09T18:07:09.189Z"
   },
   {
    "duration": 349,
    "start_time": "2023-05-09T18:07:09.197Z"
   },
   {
    "duration": 162,
    "start_time": "2023-05-09T18:07:09.549Z"
   },
   {
    "duration": 153,
    "start_time": "2023-05-09T18:07:09.713Z"
   },
   {
    "duration": 160,
    "start_time": "2023-05-09T18:07:09.869Z"
   },
   {
    "duration": 28,
    "start_time": "2023-05-09T18:07:10.030Z"
   },
   {
    "duration": 44,
    "start_time": "2023-05-09T18:07:10.060Z"
   },
   {
    "duration": 49,
    "start_time": "2023-05-09T18:07:10.106Z"
   },
   {
    "duration": 10,
    "start_time": "2023-05-09T18:07:10.156Z"
   },
   {
    "duration": 9,
    "start_time": "2023-05-09T18:07:10.168Z"
   },
   {
    "duration": 39,
    "start_time": "2023-05-09T18:07:10.178Z"
   },
   {
    "duration": 8,
    "start_time": "2023-05-09T18:07:10.220Z"
   },
   {
    "duration": 39,
    "start_time": "2023-05-09T18:07:10.230Z"
   },
   {
    "duration": 29,
    "start_time": "2023-05-09T18:07:10.271Z"
   },
   {
    "duration": 181,
    "start_time": "2023-05-09T18:16:44.267Z"
   },
   {
    "duration": 384,
    "start_time": "2023-05-09T18:17:08.666Z"
   },
   {
    "duration": 169,
    "start_time": "2023-05-09T18:17:11.405Z"
   },
   {
    "duration": 174,
    "start_time": "2023-05-09T18:17:17.421Z"
   },
   {
    "duration": 170,
    "start_time": "2023-05-09T18:17:23.305Z"
   },
   {
    "duration": 166,
    "start_time": "2023-05-09T18:17:34.959Z"
   },
   {
    "duration": 159,
    "start_time": "2023-05-09T18:17:38.863Z"
   },
   {
    "duration": 166,
    "start_time": "2023-05-09T18:17:41.752Z"
   },
   {
    "duration": 167,
    "start_time": "2023-05-09T18:17:44.911Z"
   },
   {
    "duration": 263,
    "start_time": "2023-05-09T18:18:45.031Z"
   },
   {
    "duration": 156,
    "start_time": "2023-05-09T18:18:55.959Z"
   },
   {
    "duration": 158,
    "start_time": "2023-05-09T18:19:13.351Z"
   },
   {
    "duration": 207,
    "start_time": "2023-05-09T18:19:20.182Z"
   },
   {
    "duration": 1196,
    "start_time": "2023-05-09T18:19:30.823Z"
   },
   {
    "duration": 92,
    "start_time": "2023-05-09T18:19:32.021Z"
   },
   {
    "duration": 13,
    "start_time": "2023-05-09T18:19:32.115Z"
   },
   {
    "duration": 68,
    "start_time": "2023-05-09T18:19:32.131Z"
   },
   {
    "duration": 49,
    "start_time": "2023-05-09T18:19:32.201Z"
   },
   {
    "duration": 61,
    "start_time": "2023-05-09T18:19:32.252Z"
   },
   {
    "duration": 9,
    "start_time": "2023-05-09T18:19:32.314Z"
   },
   {
    "duration": 18,
    "start_time": "2023-05-09T18:19:32.325Z"
   },
   {
    "duration": 13,
    "start_time": "2023-05-09T18:19:32.345Z"
   },
   {
    "duration": 16,
    "start_time": "2023-05-09T18:19:32.362Z"
   },
   {
    "duration": 18,
    "start_time": "2023-05-09T18:19:32.380Z"
   },
   {
    "duration": 27,
    "start_time": "2023-05-09T18:19:32.400Z"
   },
   {
    "duration": 16,
    "start_time": "2023-05-09T18:19:32.429Z"
   },
   {
    "duration": 20,
    "start_time": "2023-05-09T18:19:32.448Z"
   },
   {
    "duration": 21,
    "start_time": "2023-05-09T18:19:32.470Z"
   },
   {
    "duration": 11,
    "start_time": "2023-05-09T18:19:32.493Z"
   },
   {
    "duration": 23,
    "start_time": "2023-05-09T18:19:32.506Z"
   },
   {
    "duration": 185,
    "start_time": "2023-05-09T18:19:32.531Z"
   },
   {
    "duration": 137,
    "start_time": "2023-05-09T18:19:32.718Z"
   },
   {
    "duration": 14,
    "start_time": "2023-05-09T18:19:32.857Z"
   },
   {
    "duration": 6,
    "start_time": "2023-05-09T18:19:32.888Z"
   },
   {
    "duration": 322,
    "start_time": "2023-05-09T18:19:32.896Z"
   },
   {
    "duration": 255,
    "start_time": "2023-05-09T18:19:33.220Z"
   },
   {
    "duration": 357,
    "start_time": "2023-05-09T18:19:33.477Z"
   },
   {
    "duration": 256,
    "start_time": "2023-05-09T18:19:33.836Z"
   },
   {
    "duration": 7,
    "start_time": "2023-05-09T18:19:34.093Z"
   },
   {
    "duration": 353,
    "start_time": "2023-05-09T18:19:34.101Z"
   },
   {
    "duration": 185,
    "start_time": "2023-05-09T18:19:34.457Z"
   },
   {
    "duration": 168,
    "start_time": "2023-05-09T18:19:34.644Z"
   },
   {
    "duration": 179,
    "start_time": "2023-05-09T18:19:34.814Z"
   },
   {
    "duration": 32,
    "start_time": "2023-05-09T18:19:34.995Z"
   },
   {
    "duration": 25,
    "start_time": "2023-05-09T18:19:35.029Z"
   },
   {
    "duration": 83,
    "start_time": "2023-05-09T18:19:35.056Z"
   },
   {
    "duration": 24,
    "start_time": "2023-05-09T18:19:35.141Z"
   },
   {
    "duration": 27,
    "start_time": "2023-05-09T18:19:35.167Z"
   },
   {
    "duration": 83,
    "start_time": "2023-05-09T18:19:35.196Z"
   },
   {
    "duration": 21,
    "start_time": "2023-05-09T18:19:35.282Z"
   },
   {
    "duration": 63,
    "start_time": "2023-05-09T18:19:35.305Z"
   },
   {
    "duration": 29,
    "start_time": "2023-05-09T18:19:35.370Z"
   },
   {
    "duration": 164,
    "start_time": "2023-05-09T19:31:46.402Z"
   },
   {
    "duration": 9,
    "start_time": "2023-05-09T19:40:01.919Z"
   },
   {
    "duration": 1215,
    "start_time": "2023-05-09T19:40:28.070Z"
   },
   {
    "duration": 96,
    "start_time": "2023-05-09T19:40:29.288Z"
   },
   {
    "duration": 16,
    "start_time": "2023-05-09T19:40:29.386Z"
   },
   {
    "duration": 31,
    "start_time": "2023-05-09T19:40:29.405Z"
   },
   {
    "duration": 15,
    "start_time": "2023-05-09T19:40:29.438Z"
   },
   {
    "duration": 60,
    "start_time": "2023-05-09T19:40:29.455Z"
   },
   {
    "duration": 8,
    "start_time": "2023-05-09T19:40:29.517Z"
   },
   {
    "duration": 21,
    "start_time": "2023-05-09T19:40:29.527Z"
   },
   {
    "duration": 29,
    "start_time": "2023-05-09T19:40:29.549Z"
   },
   {
    "duration": 23,
    "start_time": "2023-05-09T19:40:29.581Z"
   },
   {
    "duration": 20,
    "start_time": "2023-05-09T19:40:29.605Z"
   },
   {
    "duration": 24,
    "start_time": "2023-05-09T19:40:29.627Z"
   },
   {
    "duration": 21,
    "start_time": "2023-05-09T19:40:29.654Z"
   },
   {
    "duration": 14,
    "start_time": "2023-05-09T19:40:29.677Z"
   },
   {
    "duration": 11,
    "start_time": "2023-05-09T19:40:29.693Z"
   },
   {
    "duration": 15,
    "start_time": "2023-05-09T19:40:29.706Z"
   },
   {
    "duration": 15,
    "start_time": "2023-05-09T19:40:29.723Z"
   },
   {
    "duration": 196,
    "start_time": "2023-05-09T19:40:29.740Z"
   },
   {
    "duration": 133,
    "start_time": "2023-05-09T19:40:29.937Z"
   },
   {
    "duration": 32,
    "start_time": "2023-05-09T19:40:30.073Z"
   },
   {
    "duration": 52,
    "start_time": "2023-05-09T19:40:30.107Z"
   },
   {
    "duration": 392,
    "start_time": "2023-05-09T19:40:30.161Z"
   },
   {
    "duration": 294,
    "start_time": "2023-05-09T19:40:30.556Z"
   },
   {
    "duration": 364,
    "start_time": "2023-05-09T19:40:30.852Z"
   },
   {
    "duration": 264,
    "start_time": "2023-05-09T19:40:31.219Z"
   },
   {
    "duration": 11,
    "start_time": "2023-05-09T19:40:31.489Z"
   },
   {
    "duration": 364,
    "start_time": "2023-05-09T19:40:31.503Z"
   },
   {
    "duration": 193,
    "start_time": "2023-05-09T19:40:31.870Z"
   },
   {
    "duration": 178,
    "start_time": "2023-05-09T19:40:32.064Z"
   },
   {
    "duration": 179,
    "start_time": "2023-05-09T19:40:32.243Z"
   },
   {
    "duration": 29,
    "start_time": "2023-05-09T19:40:32.425Z"
   },
   {
    "duration": 21,
    "start_time": "2023-05-09T19:40:32.456Z"
   },
   {
    "duration": 35,
    "start_time": "2023-05-09T19:40:32.479Z"
   },
   {
    "duration": 11,
    "start_time": "2023-05-09T19:40:32.516Z"
   },
   {
    "duration": 9,
    "start_time": "2023-05-09T19:40:32.530Z"
   },
   {
    "duration": 67,
    "start_time": "2023-05-09T19:40:32.542Z"
   },
   {
    "duration": 7,
    "start_time": "2023-05-09T19:40:32.611Z"
   },
   {
    "duration": 25,
    "start_time": "2023-05-09T19:40:32.620Z"
   },
   {
    "duration": 12,
    "start_time": "2023-05-09T19:40:32.647Z"
   },
   {
    "duration": 1103,
    "start_time": "2023-05-09T19:43:42.530Z"
   },
   {
    "duration": 92,
    "start_time": "2023-05-09T19:43:43.635Z"
   },
   {
    "duration": 12,
    "start_time": "2023-05-09T19:43:43.729Z"
   },
   {
    "duration": 16,
    "start_time": "2023-05-09T19:43:43.743Z"
   },
   {
    "duration": 29,
    "start_time": "2023-05-09T19:43:43.761Z"
   },
   {
    "duration": 44,
    "start_time": "2023-05-09T19:43:43.791Z"
   },
   {
    "duration": 8,
    "start_time": "2023-05-09T19:43:43.837Z"
   },
   {
    "duration": 16,
    "start_time": "2023-05-09T19:43:43.846Z"
   },
   {
    "duration": 17,
    "start_time": "2023-05-09T19:43:43.865Z"
   },
   {
    "duration": 14,
    "start_time": "2023-05-09T19:43:43.886Z"
   },
   {
    "duration": 11,
    "start_time": "2023-05-09T19:43:43.901Z"
   },
   {
    "duration": 9,
    "start_time": "2023-05-09T19:43:43.914Z"
   },
   {
    "duration": 6,
    "start_time": "2023-05-09T19:43:43.925Z"
   },
   {
    "duration": 5,
    "start_time": "2023-05-09T19:43:43.933Z"
   },
   {
    "duration": 8,
    "start_time": "2023-05-09T19:43:43.940Z"
   },
   {
    "duration": 50,
    "start_time": "2023-05-09T19:43:43.950Z"
   },
   {
    "duration": 11,
    "start_time": "2023-05-09T19:43:44.002Z"
   },
   {
    "duration": 194,
    "start_time": "2023-05-09T19:43:44.015Z"
   },
   {
    "duration": 132,
    "start_time": "2023-05-09T19:43:44.212Z"
   },
   {
    "duration": 14,
    "start_time": "2023-05-09T19:43:44.346Z"
   },
   {
    "duration": 17,
    "start_time": "2023-05-09T19:43:44.362Z"
   },
   {
    "duration": 306,
    "start_time": "2023-05-09T19:43:44.388Z"
   },
   {
    "duration": 238,
    "start_time": "2023-05-09T19:43:44.695Z"
   },
   {
    "duration": 314,
    "start_time": "2023-05-09T19:43:44.935Z"
   },
   {
    "duration": 245,
    "start_time": "2023-05-09T19:43:45.250Z"
   },
   {
    "duration": 6,
    "start_time": "2023-05-09T19:43:45.497Z"
   },
   {
    "duration": 329,
    "start_time": "2023-05-09T19:43:45.505Z"
   },
   {
    "duration": 189,
    "start_time": "2023-05-09T19:43:45.838Z"
   },
   {
    "duration": 172,
    "start_time": "2023-05-09T19:43:46.029Z"
   },
   {
    "duration": 170,
    "start_time": "2023-05-09T19:43:46.203Z"
   },
   {
    "duration": 32,
    "start_time": "2023-05-09T19:43:46.375Z"
   },
   {
    "duration": 18,
    "start_time": "2023-05-09T19:43:46.409Z"
   },
   {
    "duration": 25,
    "start_time": "2023-05-09T19:43:46.429Z"
   },
   {
    "duration": 10,
    "start_time": "2023-05-09T19:43:46.456Z"
   },
   {
    "duration": 26,
    "start_time": "2023-05-09T19:43:46.468Z"
   },
   {
    "duration": 36,
    "start_time": "2023-05-09T19:43:46.497Z"
   },
   {
    "duration": 7,
    "start_time": "2023-05-09T19:43:46.535Z"
   },
   {
    "duration": 27,
    "start_time": "2023-05-09T19:43:46.544Z"
   },
   {
    "duration": 15,
    "start_time": "2023-05-09T19:43:46.590Z"
   },
   {
    "duration": 162,
    "start_time": "2023-05-09T19:46:03.955Z"
   },
   {
    "duration": 248,
    "start_time": "2023-05-09T19:46:11.074Z"
   },
   {
    "duration": 157,
    "start_time": "2023-05-09T19:46:17.806Z"
   },
   {
    "duration": 6,
    "start_time": "2023-05-09T19:48:26.654Z"
   },
   {
    "duration": 112,
    "start_time": "2023-05-09T19:50:03.778Z"
   },
   {
    "duration": 17,
    "start_time": "2023-05-09T19:50:27.334Z"
   },
   {
    "duration": 6,
    "start_time": "2023-05-09T19:50:35.730Z"
   },
   {
    "duration": 11,
    "start_time": "2023-05-09T19:50:48.110Z"
   },
   {
    "duration": 11,
    "start_time": "2023-05-09T19:50:51.715Z"
   },
   {
    "duration": 5,
    "start_time": "2023-05-09T19:51:05.034Z"
   },
   {
    "duration": 10,
    "start_time": "2023-05-09T19:53:07.194Z"
   },
   {
    "duration": 6,
    "start_time": "2023-05-09T19:53:52.254Z"
   },
   {
    "duration": 9,
    "start_time": "2023-05-09T19:54:17.398Z"
   },
   {
    "duration": 1187,
    "start_time": "2023-05-09T19:54:30.007Z"
   },
   {
    "duration": 78,
    "start_time": "2023-05-09T19:54:31.196Z"
   },
   {
    "duration": 30,
    "start_time": "2023-05-09T19:54:31.276Z"
   },
   {
    "duration": 37,
    "start_time": "2023-05-09T19:54:31.308Z"
   },
   {
    "duration": 23,
    "start_time": "2023-05-09T19:54:31.346Z"
   },
   {
    "duration": 73,
    "start_time": "2023-05-09T19:54:31.371Z"
   },
   {
    "duration": 9,
    "start_time": "2023-05-09T19:54:31.446Z"
   },
   {
    "duration": 39,
    "start_time": "2023-05-09T19:54:31.457Z"
   },
   {
    "duration": 38,
    "start_time": "2023-05-09T19:54:31.498Z"
   },
   {
    "duration": 33,
    "start_time": "2023-05-09T19:54:31.540Z"
   },
   {
    "duration": 21,
    "start_time": "2023-05-09T19:54:31.575Z"
   },
   {
    "duration": 51,
    "start_time": "2023-05-09T19:54:31.598Z"
   },
   {
    "duration": 22,
    "start_time": "2023-05-09T19:54:31.653Z"
   },
   {
    "duration": 55,
    "start_time": "2023-05-09T19:54:31.677Z"
   },
   {
    "duration": 22,
    "start_time": "2023-05-09T19:54:31.734Z"
   },
   {
    "duration": 20,
    "start_time": "2023-05-09T19:54:31.757Z"
   },
   {
    "duration": 25,
    "start_time": "2023-05-09T19:54:31.779Z"
   },
   {
    "duration": 201,
    "start_time": "2023-05-09T19:54:31.806Z"
   },
   {
    "duration": 127,
    "start_time": "2023-05-09T19:54:32.010Z"
   },
   {
    "duration": 15,
    "start_time": "2023-05-09T19:54:32.138Z"
   },
   {
    "duration": 23,
    "start_time": "2023-05-09T19:54:32.155Z"
   },
   {
    "duration": 309,
    "start_time": "2023-05-09T19:54:32.180Z"
   },
   {
    "duration": 246,
    "start_time": "2023-05-09T19:54:32.491Z"
   },
   {
    "duration": 307,
    "start_time": "2023-05-09T19:54:32.739Z"
   },
   {
    "duration": 243,
    "start_time": "2023-05-09T19:54:33.048Z"
   },
   {
    "duration": 6,
    "start_time": "2023-05-09T19:54:33.292Z"
   },
   {
    "duration": 340,
    "start_time": "2023-05-09T19:54:33.300Z"
   },
   {
    "duration": 171,
    "start_time": "2023-05-09T19:54:33.643Z"
   },
   {
    "duration": 181,
    "start_time": "2023-05-09T19:54:33.816Z"
   },
   {
    "duration": 173,
    "start_time": "2023-05-09T19:54:33.999Z"
   },
   {
    "duration": 37,
    "start_time": "2023-05-09T19:54:34.174Z"
   },
   {
    "duration": 8,
    "start_time": "2023-05-09T19:54:34.213Z"
   },
   {
    "duration": 44,
    "start_time": "2023-05-09T19:54:34.222Z"
   },
   {
    "duration": 10,
    "start_time": "2023-05-09T19:54:34.268Z"
   },
   {
    "duration": 11,
    "start_time": "2023-05-09T19:54:34.279Z"
   },
   {
    "duration": 34,
    "start_time": "2023-05-09T19:54:34.292Z"
   },
   {
    "duration": 15,
    "start_time": "2023-05-09T19:54:34.328Z"
   },
   {
    "duration": 28,
    "start_time": "2023-05-09T19:54:34.345Z"
   },
   {
    "duration": 12,
    "start_time": "2023-05-09T19:54:34.390Z"
   },
   {
    "duration": 65,
    "start_time": "2023-05-09T19:55:17.385Z"
   },
   {
    "duration": 62,
    "start_time": "2023-05-09T19:56:22.182Z"
   },
   {
    "duration": 1041,
    "start_time": "2023-05-09T22:34:39.806Z"
   },
   {
    "duration": 133,
    "start_time": "2023-05-09T22:34:40.850Z"
   },
   {
    "duration": 11,
    "start_time": "2023-05-09T22:34:40.985Z"
   },
   {
    "duration": 23,
    "start_time": "2023-05-09T22:34:40.998Z"
   },
   {
    "duration": 11,
    "start_time": "2023-05-09T22:34:41.023Z"
   },
   {
    "duration": 128,
    "start_time": "2023-05-09T22:34:41.036Z"
   },
   {
    "duration": 8,
    "start_time": "2023-05-09T22:34:41.166Z"
   },
   {
    "duration": 15,
    "start_time": "2023-05-09T22:34:41.175Z"
   },
   {
    "duration": 11,
    "start_time": "2023-05-09T22:34:41.192Z"
   },
   {
    "duration": 9,
    "start_time": "2023-05-09T22:34:41.206Z"
   },
   {
    "duration": 12,
    "start_time": "2023-05-09T22:34:41.216Z"
   },
   {
    "duration": 7,
    "start_time": "2023-05-09T22:34:41.229Z"
   },
   {
    "duration": 7,
    "start_time": "2023-05-09T22:34:41.237Z"
   },
   {
    "duration": 7,
    "start_time": "2023-05-09T22:34:41.245Z"
   },
   {
    "duration": 6,
    "start_time": "2023-05-09T22:34:41.253Z"
   },
   {
    "duration": 35,
    "start_time": "2023-05-09T22:34:41.260Z"
   },
   {
    "duration": 10,
    "start_time": "2023-05-09T22:34:41.297Z"
   },
   {
    "duration": 177,
    "start_time": "2023-05-09T22:34:41.308Z"
   },
   {
    "duration": 136,
    "start_time": "2023-05-09T22:34:41.486Z"
   },
   {
    "duration": 11,
    "start_time": "2023-05-09T22:34:41.624Z"
   },
   {
    "duration": 9,
    "start_time": "2023-05-09T22:34:41.636Z"
   },
   {
    "duration": 278,
    "start_time": "2023-05-09T22:34:41.646Z"
   },
   {
    "duration": 228,
    "start_time": "2023-05-09T22:34:41.925Z"
   },
   {
    "duration": 342,
    "start_time": "2023-05-09T22:34:42.155Z"
   },
   {
    "duration": 215,
    "start_time": "2023-05-09T22:34:42.498Z"
   },
   {
    "duration": 6,
    "start_time": "2023-05-09T22:34:42.714Z"
   },
   {
    "duration": 345,
    "start_time": "2023-05-09T22:34:42.722Z"
   },
   {
    "duration": 173,
    "start_time": "2023-05-09T22:34:43.070Z"
   },
   {
    "duration": 163,
    "start_time": "2023-05-09T22:34:43.245Z"
   },
   {
    "duration": 160,
    "start_time": "2023-05-09T22:34:43.410Z"
   },
   {
    "duration": 35,
    "start_time": "2023-05-09T22:34:43.572Z"
   },
   {
    "duration": 6,
    "start_time": "2023-05-09T22:34:43.608Z"
   },
   {
    "duration": 23,
    "start_time": "2023-05-09T22:34:43.616Z"
   },
   {
    "duration": 9,
    "start_time": "2023-05-09T22:34:43.641Z"
   },
   {
    "duration": 8,
    "start_time": "2023-05-09T22:34:43.652Z"
   },
   {
    "duration": 56,
    "start_time": "2023-05-09T22:34:43.661Z"
   },
   {
    "duration": 6,
    "start_time": "2023-05-09T22:34:43.719Z"
   },
   {
    "duration": 24,
    "start_time": "2023-05-09T22:34:43.727Z"
   },
   {
    "duration": 10,
    "start_time": "2023-05-09T22:34:43.753Z"
   }
  ],
  "kernelspec": {
   "display_name": "Python 3 (ipykernel)",
   "language": "python",
   "name": "python3"
  },
  "language_info": {
   "codemirror_mode": {
    "name": "ipython",
    "version": 3
   },
   "file_extension": ".py",
   "mimetype": "text/x-python",
   "name": "python",
   "nbconvert_exporter": "python",
   "pygments_lexer": "ipython3",
   "version": "3.10.9"
  },
  "toc": {
   "base_numbering": 1,
   "nav_menu": {
    "height": "234.99px",
    "width": "630.042px"
   },
   "number_sections": true,
   "sideBar": true,
   "skip_h1_title": true,
   "title_cell": "Table of Contents",
   "title_sidebar": "Contents",
   "toc_cell": false,
   "toc_position": {},
   "toc_section_display": true,
   "toc_window_display": false
  }
 },
 "nbformat": 4,
 "nbformat_minor": 2
}
